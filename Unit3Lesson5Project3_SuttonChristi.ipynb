{
 "cells": [
  {
   "cell_type": "markdown",
   "metadata": {},
   "source": [
    "# Unit 3 Lesson 5 Project 3"
   ]
  },
  {
   "cell_type": "code",
   "execution_count": 1,
   "metadata": {},
   "outputs": [],
   "source": [
    "# NYPD Arrest Data for 2021"
   ]
  },
  {
   "cell_type": "code",
   "execution_count": 2,
   "metadata": {},
   "outputs": [],
   "source": [
    "import pandas as pd\n",
    "import numpy as np\n",
    "import seaborn as sns #viz\n",
    "import matplotlib.pyplot as plt #viz\n",
    "%matplotlib inline\n",
    "sns.set(color_codes=True)"
   ]
  },
  {
   "cell_type": "code",
   "execution_count": 3,
   "metadata": {},
   "outputs": [],
   "source": [
    "df = pd.read_csv(r'C:\\Users\\chrsutton\\NYPDArrestDataYTD.csv')"
   ]
  },
  {
   "cell_type": "code",
   "execution_count": 4,
   "metadata": {},
   "outputs": [
    {
     "data": {
      "text/html": [
       "<div>\n",
       "<style scoped>\n",
       "    .dataframe tbody tr th:only-of-type {\n",
       "        vertical-align: middle;\n",
       "    }\n",
       "\n",
       "    .dataframe tbody tr th {\n",
       "        vertical-align: top;\n",
       "    }\n",
       "\n",
       "    .dataframe thead th {\n",
       "        text-align: right;\n",
       "    }\n",
       "</style>\n",
       "<table border=\"1\" class=\"dataframe\">\n",
       "  <thead>\n",
       "    <tr style=\"text-align: right;\">\n",
       "      <th></th>\n",
       "      <th>ARREST_KEY</th>\n",
       "      <th>ARREST_DATE</th>\n",
       "      <th>PD_CD</th>\n",
       "      <th>PD_DESC</th>\n",
       "      <th>KY_CD</th>\n",
       "      <th>OFNS_DESC</th>\n",
       "      <th>LAW_CODE</th>\n",
       "      <th>LAW_CAT_CD</th>\n",
       "      <th>ARREST_BORO</th>\n",
       "      <th>ARREST_PRECINCT</th>\n",
       "      <th>JURISDICTION_CODE</th>\n",
       "      <th>AGE_GROUP</th>\n",
       "      <th>PERP_SEX</th>\n",
       "      <th>PERP_RACE</th>\n",
       "      <th>X_COORD_CD</th>\n",
       "      <th>Y_COORD_CD</th>\n",
       "      <th>Latitude</th>\n",
       "      <th>Longitude</th>\n",
       "      <th>New Georeferenced Column</th>\n",
       "    </tr>\n",
       "  </thead>\n",
       "  <tbody>\n",
       "    <tr>\n",
       "      <th>0</th>\n",
       "      <td>238013474</td>\n",
       "      <td>12/18/2021</td>\n",
       "      <td>157.0</td>\n",
       "      <td>RAPE 1</td>\n",
       "      <td>104.0</td>\n",
       "      <td>RAPE</td>\n",
       "      <td>PL 1303501</td>\n",
       "      <td>F</td>\n",
       "      <td>Q</td>\n",
       "      <td>105</td>\n",
       "      <td>97</td>\n",
       "      <td>18-24</td>\n",
       "      <td>M</td>\n",
       "      <td>BLACK</td>\n",
       "      <td>1057636</td>\n",
       "      <td>203954</td>\n",
       "      <td>40.726187</td>\n",
       "      <td>-73.735234</td>\n",
       "      <td>POINT (-73.73523390399998 40.72618713000002)</td>\n",
       "    </tr>\n",
       "    <tr>\n",
       "      <th>1</th>\n",
       "      <td>236943583</td>\n",
       "      <td>11/25/2021</td>\n",
       "      <td>263.0</td>\n",
       "      <td>ARSON 2,3,4</td>\n",
       "      <td>114.0</td>\n",
       "      <td>ARSON</td>\n",
       "      <td>PL 1501500</td>\n",
       "      <td>F</td>\n",
       "      <td>K</td>\n",
       "      <td>69</td>\n",
       "      <td>71</td>\n",
       "      <td>25-44</td>\n",
       "      <td>M</td>\n",
       "      <td>BLACK</td>\n",
       "      <td>1014340</td>\n",
       "      <td>171320</td>\n",
       "      <td>40.636868</td>\n",
       "      <td>-73.891586</td>\n",
       "      <td>POINT (-73.89158591899997 40.63686750900007)</td>\n",
       "    </tr>\n",
       "    <tr>\n",
       "      <th>2</th>\n",
       "      <td>234938876</td>\n",
       "      <td>10/14/2021</td>\n",
       "      <td>594.0</td>\n",
       "      <td>OBSCENITY 1</td>\n",
       "      <td>116.0</td>\n",
       "      <td>SEX CRIMES</td>\n",
       "      <td>PL 2631100</td>\n",
       "      <td>F</td>\n",
       "      <td>K</td>\n",
       "      <td>61</td>\n",
       "      <td>0</td>\n",
       "      <td>25-44</td>\n",
       "      <td>M</td>\n",
       "      <td>WHITE</td>\n",
       "      <td>995244</td>\n",
       "      <td>155739</td>\n",
       "      <td>40.594145</td>\n",
       "      <td>-73.960415</td>\n",
       "      <td>POINT (-73.96041495199995 40.59414516900005)</td>\n",
       "    </tr>\n",
       "    <tr>\n",
       "      <th>3</th>\n",
       "      <td>234788259</td>\n",
       "      <td>10/11/2021</td>\n",
       "      <td>263.0</td>\n",
       "      <td>ARSON 2,3,4</td>\n",
       "      <td>114.0</td>\n",
       "      <td>ARSON</td>\n",
       "      <td>PL 1501001</td>\n",
       "      <td>F</td>\n",
       "      <td>B</td>\n",
       "      <td>42</td>\n",
       "      <td>71</td>\n",
       "      <td>18-24</td>\n",
       "      <td>M</td>\n",
       "      <td>BLACK</td>\n",
       "      <td>1009058</td>\n",
       "      <td>239616</td>\n",
       "      <td>40.824340</td>\n",
       "      <td>-73.910365</td>\n",
       "      <td>POINT (-73.91036538099996 40.82433953100008)</td>\n",
       "    </tr>\n",
       "    <tr>\n",
       "      <th>4</th>\n",
       "      <td>234188790</td>\n",
       "      <td>09/28/2021</td>\n",
       "      <td>578.0</td>\n",
       "      <td>NaN</td>\n",
       "      <td>NaN</td>\n",
       "      <td>NaN</td>\n",
       "      <td>PL 2223001</td>\n",
       "      <td>M</td>\n",
       "      <td>B</td>\n",
       "      <td>44</td>\n",
       "      <td>0</td>\n",
       "      <td>25-44</td>\n",
       "      <td>M</td>\n",
       "      <td>BLACK</td>\n",
       "      <td>1005169</td>\n",
       "      <td>246667</td>\n",
       "      <td>40.843703</td>\n",
       "      <td>-73.924395</td>\n",
       "      <td>POINT (-73.92439508899997 40.84370255600004)</td>\n",
       "    </tr>\n",
       "  </tbody>\n",
       "</table>\n",
       "</div>"
      ],
      "text/plain": [
       "   ARREST_KEY ARREST_DATE  PD_CD      PD_DESC  KY_CD   OFNS_DESC    LAW_CODE  \\\n",
       "0   238013474  12/18/2021  157.0       RAPE 1  104.0        RAPE  PL 1303501   \n",
       "1   236943583  11/25/2021  263.0  ARSON 2,3,4  114.0       ARSON  PL 1501500   \n",
       "2   234938876  10/14/2021  594.0  OBSCENITY 1  116.0  SEX CRIMES  PL 2631100   \n",
       "3   234788259  10/11/2021  263.0  ARSON 2,3,4  114.0       ARSON  PL 1501001   \n",
       "4   234188790  09/28/2021  578.0          NaN    NaN         NaN  PL 2223001   \n",
       "\n",
       "  LAW_CAT_CD ARREST_BORO  ARREST_PRECINCT  JURISDICTION_CODE AGE_GROUP  \\\n",
       "0          F           Q              105                 97     18-24   \n",
       "1          F           K               69                 71     25-44   \n",
       "2          F           K               61                  0     25-44   \n",
       "3          F           B               42                 71     18-24   \n",
       "4          M           B               44                  0     25-44   \n",
       "\n",
       "  PERP_SEX PERP_RACE  X_COORD_CD  Y_COORD_CD   Latitude  Longitude  \\\n",
       "0        M     BLACK     1057636      203954  40.726187 -73.735234   \n",
       "1        M     BLACK     1014340      171320  40.636868 -73.891586   \n",
       "2        M     WHITE      995244      155739  40.594145 -73.960415   \n",
       "3        M     BLACK     1009058      239616  40.824340 -73.910365   \n",
       "4        M     BLACK     1005169      246667  40.843703 -73.924395   \n",
       "\n",
       "                       New Georeferenced Column  \n",
       "0  POINT (-73.73523390399998 40.72618713000002)  \n",
       "1  POINT (-73.89158591899997 40.63686750900007)  \n",
       "2  POINT (-73.96041495199995 40.59414516900005)  \n",
       "3  POINT (-73.91036538099996 40.82433953100008)  \n",
       "4  POINT (-73.92439508899997 40.84370255600004)  "
      ]
     },
     "execution_count": 4,
     "metadata": {},
     "output_type": "execute_result"
    }
   ],
   "source": [
    "df.head()"
   ]
  },
  {
   "cell_type": "code",
   "execution_count": 5,
   "metadata": {},
   "outputs": [
    {
     "data": {
      "text/html": [
       "<div>\n",
       "<style scoped>\n",
       "    .dataframe tbody tr th:only-of-type {\n",
       "        vertical-align: middle;\n",
       "    }\n",
       "\n",
       "    .dataframe tbody tr th {\n",
       "        vertical-align: top;\n",
       "    }\n",
       "\n",
       "    .dataframe thead th {\n",
       "        text-align: right;\n",
       "    }\n",
       "</style>\n",
       "<table border=\"1\" class=\"dataframe\">\n",
       "  <thead>\n",
       "    <tr style=\"text-align: right;\">\n",
       "      <th></th>\n",
       "      <th>ARREST_KEY</th>\n",
       "      <th>ARREST_DATE</th>\n",
       "      <th>PD_CD</th>\n",
       "      <th>PD_DESC</th>\n",
       "      <th>KY_CD</th>\n",
       "      <th>OFNS_DESC</th>\n",
       "      <th>LAW_CODE</th>\n",
       "      <th>LAW_CAT_CD</th>\n",
       "      <th>ARREST_BORO</th>\n",
       "      <th>ARREST_PRECINCT</th>\n",
       "      <th>JURISDICTION_CODE</th>\n",
       "      <th>AGE_GROUP</th>\n",
       "      <th>PERP_SEX</th>\n",
       "      <th>PERP_RACE</th>\n",
       "      <th>X_COORD_CD</th>\n",
       "      <th>Y_COORD_CD</th>\n",
       "      <th>Latitude</th>\n",
       "      <th>Longitude</th>\n",
       "      <th>New Georeferenced Column</th>\n",
       "    </tr>\n",
       "  </thead>\n",
       "  <tbody>\n",
       "    <tr>\n",
       "      <th>155502</th>\n",
       "      <td>222884924</td>\n",
       "      <td>01/10/2021</td>\n",
       "      <td>397.0</td>\n",
       "      <td>ROBBERY,OPEN AREA UNCLASSIFIED</td>\n",
       "      <td>105.0</td>\n",
       "      <td>ROBBERY</td>\n",
       "      <td>PL 1601001</td>\n",
       "      <td>F</td>\n",
       "      <td>B</td>\n",
       "      <td>46</td>\n",
       "      <td>0</td>\n",
       "      <td>45-64</td>\n",
       "      <td>M</td>\n",
       "      <td>BLACK</td>\n",
       "      <td>1011432</td>\n",
       "      <td>247605</td>\n",
       "      <td>40.846260</td>\n",
       "      <td>-73.901755</td>\n",
       "      <td>POINT (-73.90175529499999 40.846260031000035)</td>\n",
       "    </tr>\n",
       "    <tr>\n",
       "      <th>155503</th>\n",
       "      <td>223918625</td>\n",
       "      <td>02/03/2021</td>\n",
       "      <td>792.0</td>\n",
       "      <td>WEAPONS POSSESSION 1 &amp; 2</td>\n",
       "      <td>118.0</td>\n",
       "      <td>DANGEROUS WEAPONS</td>\n",
       "      <td>PL 2650303</td>\n",
       "      <td>F</td>\n",
       "      <td>K</td>\n",
       "      <td>67</td>\n",
       "      <td>0</td>\n",
       "      <td>18-24</td>\n",
       "      <td>M</td>\n",
       "      <td>BLACK</td>\n",
       "      <td>1004940</td>\n",
       "      <td>180941</td>\n",
       "      <td>40.663302</td>\n",
       "      <td>-73.925425</td>\n",
       "      <td>POINT (-73.92542497899994 40.66330200400005)</td>\n",
       "    </tr>\n",
       "    <tr>\n",
       "      <th>155504</th>\n",
       "      <td>224323770</td>\n",
       "      <td>02/13/2021</td>\n",
       "      <td>101.0</td>\n",
       "      <td>ASSAULT 3</td>\n",
       "      <td>344.0</td>\n",
       "      <td>ASSAULT 3 &amp; RELATED OFFENSES</td>\n",
       "      <td>PL 1200001</td>\n",
       "      <td>M</td>\n",
       "      <td>S</td>\n",
       "      <td>121</td>\n",
       "      <td>0</td>\n",
       "      <td>45-64</td>\n",
       "      <td>M</td>\n",
       "      <td>BLACK</td>\n",
       "      <td>942825</td>\n",
       "      <td>166367</td>\n",
       "      <td>40.623227</td>\n",
       "      <td>-74.149227</td>\n",
       "      <td>POINT (-74.14922697299994 40.623226819000074)</td>\n",
       "    </tr>\n",
       "    <tr>\n",
       "      <th>155505</th>\n",
       "      <td>222599533</td>\n",
       "      <td>01/04/2021</td>\n",
       "      <td>792.0</td>\n",
       "      <td>WEAPONS POSSESSION 1 &amp; 2</td>\n",
       "      <td>118.0</td>\n",
       "      <td>DANGEROUS WEAPONS</td>\n",
       "      <td>PL 2650303</td>\n",
       "      <td>F</td>\n",
       "      <td>K</td>\n",
       "      <td>73</td>\n",
       "      <td>0</td>\n",
       "      <td>25-44</td>\n",
       "      <td>M</td>\n",
       "      <td>BLACK</td>\n",
       "      <td>1007524</td>\n",
       "      <td>188555</td>\n",
       "      <td>40.684194</td>\n",
       "      <td>-73.916085</td>\n",
       "      <td>POINT (-73.91608474599997 40.684194302000044)</td>\n",
       "    </tr>\n",
       "    <tr>\n",
       "      <th>155506</th>\n",
       "      <td>224056881</td>\n",
       "      <td>02/06/2021</td>\n",
       "      <td>268.0</td>\n",
       "      <td>CRIMINAL MIS 2 &amp; 3</td>\n",
       "      <td>121.0</td>\n",
       "      <td>CRIMINAL MISCHIEF &amp; RELATED OF</td>\n",
       "      <td>PL 1451000</td>\n",
       "      <td>F</td>\n",
       "      <td>Q</td>\n",
       "      <td>102</td>\n",
       "      <td>0</td>\n",
       "      <td>18-24</td>\n",
       "      <td>M</td>\n",
       "      <td>ASIAN / PACIFIC ISLANDER</td>\n",
       "      <td>1031414</td>\n",
       "      <td>190787</td>\n",
       "      <td>40.690226</td>\n",
       "      <td>-73.829932</td>\n",
       "      <td>POINT (-73.82993153599993 40.69022556600004)</td>\n",
       "    </tr>\n",
       "  </tbody>\n",
       "</table>\n",
       "</div>"
      ],
      "text/plain": [
       "        ARREST_KEY ARREST_DATE  PD_CD                         PD_DESC  KY_CD  \\\n",
       "155502   222884924  01/10/2021  397.0  ROBBERY,OPEN AREA UNCLASSIFIED  105.0   \n",
       "155503   223918625  02/03/2021  792.0        WEAPONS POSSESSION 1 & 2  118.0   \n",
       "155504   224323770  02/13/2021  101.0                       ASSAULT 3  344.0   \n",
       "155505   222599533  01/04/2021  792.0        WEAPONS POSSESSION 1 & 2  118.0   \n",
       "155506   224056881  02/06/2021  268.0              CRIMINAL MIS 2 & 3  121.0   \n",
       "\n",
       "                             OFNS_DESC    LAW_CODE LAW_CAT_CD ARREST_BORO  \\\n",
       "155502                         ROBBERY  PL 1601001          F           B   \n",
       "155503               DANGEROUS WEAPONS  PL 2650303          F           K   \n",
       "155504    ASSAULT 3 & RELATED OFFENSES  PL 1200001          M           S   \n",
       "155505               DANGEROUS WEAPONS  PL 2650303          F           K   \n",
       "155506  CRIMINAL MISCHIEF & RELATED OF  PL 1451000          F           Q   \n",
       "\n",
       "        ARREST_PRECINCT  JURISDICTION_CODE AGE_GROUP PERP_SEX  \\\n",
       "155502               46                  0     45-64        M   \n",
       "155503               67                  0     18-24        M   \n",
       "155504              121                  0     45-64        M   \n",
       "155505               73                  0     25-44        M   \n",
       "155506              102                  0     18-24        M   \n",
       "\n",
       "                       PERP_RACE  X_COORD_CD  Y_COORD_CD   Latitude  \\\n",
       "155502                     BLACK     1011432      247605  40.846260   \n",
       "155503                     BLACK     1004940      180941  40.663302   \n",
       "155504                     BLACK      942825      166367  40.623227   \n",
       "155505                     BLACK     1007524      188555  40.684194   \n",
       "155506  ASIAN / PACIFIC ISLANDER     1031414      190787  40.690226   \n",
       "\n",
       "        Longitude                       New Georeferenced Column  \n",
       "155502 -73.901755  POINT (-73.90175529499999 40.846260031000035)  \n",
       "155503 -73.925425   POINT (-73.92542497899994 40.66330200400005)  \n",
       "155504 -74.149227  POINT (-74.14922697299994 40.623226819000074)  \n",
       "155505 -73.916085  POINT (-73.91608474599997 40.684194302000044)  \n",
       "155506 -73.829932   POINT (-73.82993153599993 40.69022556600004)  "
      ]
     },
     "execution_count": 5,
     "metadata": {},
     "output_type": "execute_result"
    }
   ],
   "source": [
    "df.tail()"
   ]
  },
  {
   "cell_type": "code",
   "execution_count": 6,
   "metadata": {},
   "outputs": [],
   "source": [
    "# Null value counts correspond to the column count inconsistencies"
   ]
  },
  {
   "cell_type": "code",
   "execution_count": 7,
   "metadata": {},
   "outputs": [
    {
     "name": "stdout",
     "output_type": "stream",
     "text": [
      "ARREST_KEY                     0\n",
      "ARREST_DATE                    0\n",
      "PD_CD                         29\n",
      "PD_DESC                      103\n",
      "KY_CD                        103\n",
      "OFNS_DESC                    103\n",
      "LAW_CODE                       0\n",
      "LAW_CAT_CD                  1393\n",
      "ARREST_BORO                    0\n",
      "ARREST_PRECINCT                0\n",
      "JURISDICTION_CODE              0\n",
      "AGE_GROUP                      0\n",
      "PERP_SEX                       0\n",
      "PERP_RACE                      0\n",
      "X_COORD_CD                     0\n",
      "Y_COORD_CD                     0\n",
      "Latitude                       0\n",
      "Longitude                      0\n",
      "New Georeferenced Column       0\n",
      "dtype: int64\n"
     ]
    }
   ],
   "source": [
    "print(df.isnull().sum())"
   ]
  },
  {
   "cell_type": "code",
   "execution_count": 8,
   "metadata": {},
   "outputs": [],
   "source": [
    "# Drop null values\n",
    "df.dropna(inplace = True)"
   ]
  },
  {
   "cell_type": "code",
   "execution_count": 9,
   "metadata": {},
   "outputs": [
    {
     "name": "stdout",
     "output_type": "stream",
     "text": [
      "ARREST_KEY                  0\n",
      "ARREST_DATE                 0\n",
      "PD_CD                       0\n",
      "PD_DESC                     0\n",
      "KY_CD                       0\n",
      "OFNS_DESC                   0\n",
      "LAW_CODE                    0\n",
      "LAW_CAT_CD                  0\n",
      "ARREST_BORO                 0\n",
      "ARREST_PRECINCT             0\n",
      "JURISDICTION_CODE           0\n",
      "AGE_GROUP                   0\n",
      "PERP_SEX                    0\n",
      "PERP_RACE                   0\n",
      "X_COORD_CD                  0\n",
      "Y_COORD_CD                  0\n",
      "Latitude                    0\n",
      "Longitude                   0\n",
      "New Georeferenced Column    0\n",
      "dtype: int64\n"
     ]
    }
   ],
   "source": [
    "print(df.isnull().sum())"
   ]
  },
  {
   "cell_type": "code",
   "execution_count": 10,
   "metadata": {},
   "outputs": [],
   "source": [
    "# Looking for duplicate rows; there aren't any"
   ]
  },
  {
   "cell_type": "code",
   "execution_count": 11,
   "metadata": {
    "scrolled": true
   },
   "outputs": [
    {
     "name": "stdout",
     "output_type": "stream",
     "text": [
      "number of duplicate rows: (0, 19)\n"
     ]
    }
   ],
   "source": [
    "duplicate_rows_df = df[df.duplicated()]\n",
    "print('number of duplicate rows:', duplicate_rows_df.shape)"
   ]
  },
  {
   "cell_type": "code",
   "execution_count": 12,
   "metadata": {},
   "outputs": [],
   "source": [
    "# Drop columns\n",
    "df = df.drop(df.columns[[0, 2, 3, 4, 6, 9, 10, 14, 15, 16, 17,18]], axis=1)"
   ]
  },
  {
   "cell_type": "code",
   "execution_count": 13,
   "metadata": {},
   "outputs": [],
   "source": [
    "# Rename 5 columns\n",
    "df.rename(columns = {'ARREST_DATE': 'DATE','OFNS_DESC':'OFFENSE', 'LAW_CAT_CD':'LEVEL', 'ARREST_BORO':'BOROUGH','PERP_SEX':'GENDER',\n",
    "                    'PERP_RACE': 'RACE'}, inplace=True)"
   ]
  },
  {
   "cell_type": "code",
   "execution_count": 14,
   "metadata": {},
   "outputs": [
    {
     "name": "stdout",
     "output_type": "stream",
     "text": [
      "<class 'pandas.core.frame.DataFrame'>\n",
      "Int64Index: 154011 entries, 0 to 155506\n",
      "Data columns (total 7 columns):\n",
      " #   Column     Non-Null Count   Dtype \n",
      "---  ------     --------------   ----- \n",
      " 0   DATE       154011 non-null  object\n",
      " 1   OFFENSE    154011 non-null  object\n",
      " 2   LEVEL      154011 non-null  object\n",
      " 3   BOROUGH    154011 non-null  object\n",
      " 4   AGE_GROUP  154011 non-null  object\n",
      " 5   GENDER     154011 non-null  object\n",
      " 6   RACE       154011 non-null  object\n",
      "dtypes: object(7)\n",
      "memory usage: 5.3+ MB\n"
     ]
    }
   ],
   "source": [
    "df.info()"
   ]
  },
  {
   "cell_type": "code",
   "execution_count": 15,
   "metadata": {},
   "outputs": [
    {
     "data": {
      "text/html": [
       "<div>\n",
       "<style scoped>\n",
       "    .dataframe tbody tr th:only-of-type {\n",
       "        vertical-align: middle;\n",
       "    }\n",
       "\n",
       "    .dataframe tbody tr th {\n",
       "        vertical-align: top;\n",
       "    }\n",
       "\n",
       "    .dataframe thead th {\n",
       "        text-align: right;\n",
       "    }\n",
       "</style>\n",
       "<table border=\"1\" class=\"dataframe\">\n",
       "  <thead>\n",
       "    <tr style=\"text-align: right;\">\n",
       "      <th></th>\n",
       "      <th>DATE</th>\n",
       "      <th>OFFENSE</th>\n",
       "      <th>LEVEL</th>\n",
       "      <th>BOROUGH</th>\n",
       "      <th>AGE_GROUP</th>\n",
       "      <th>GENDER</th>\n",
       "      <th>RACE</th>\n",
       "    </tr>\n",
       "  </thead>\n",
       "  <tbody>\n",
       "    <tr>\n",
       "      <th>count</th>\n",
       "      <td>154011</td>\n",
       "      <td>154011</td>\n",
       "      <td>154011</td>\n",
       "      <td>154011</td>\n",
       "      <td>154011</td>\n",
       "      <td>154011</td>\n",
       "      <td>154011</td>\n",
       "    </tr>\n",
       "    <tr>\n",
       "      <th>unique</th>\n",
       "      <td>365</td>\n",
       "      <td>62</td>\n",
       "      <td>4</td>\n",
       "      <td>5</td>\n",
       "      <td>5</td>\n",
       "      <td>2</td>\n",
       "      <td>7</td>\n",
       "    </tr>\n",
       "    <tr>\n",
       "      <th>top</th>\n",
       "      <td>09/21/2021</td>\n",
       "      <td>ASSAULT 3 &amp; RELATED OFFENSES</td>\n",
       "      <td>M</td>\n",
       "      <td>K</td>\n",
       "      <td>25-44</td>\n",
       "      <td>M</td>\n",
       "      <td>BLACK</td>\n",
       "    </tr>\n",
       "    <tr>\n",
       "      <th>freq</th>\n",
       "      <td>695</td>\n",
       "      <td>26855</td>\n",
       "      <td>82575</td>\n",
       "      <td>41312</td>\n",
       "      <td>87873</td>\n",
       "      <td>127564</td>\n",
       "      <td>76585</td>\n",
       "    </tr>\n",
       "  </tbody>\n",
       "</table>\n",
       "</div>"
      ],
      "text/plain": [
       "              DATE                       OFFENSE   LEVEL BOROUGH AGE_GROUP  \\\n",
       "count       154011                        154011  154011  154011    154011   \n",
       "unique         365                            62       4       5         5   \n",
       "top     09/21/2021  ASSAULT 3 & RELATED OFFENSES       M       K     25-44   \n",
       "freq           695                         26855   82575   41312     87873   \n",
       "\n",
       "        GENDER    RACE  \n",
       "count   154011  154011  \n",
       "unique       2       7  \n",
       "top          M   BLACK  \n",
       "freq    127564   76585  "
      ]
     },
     "execution_count": 15,
     "metadata": {},
     "output_type": "execute_result"
    }
   ],
   "source": [
    "df.describe()"
   ]
  },
  {
   "cell_type": "code",
   "execution_count": 16,
   "metadata": {},
   "outputs": [
    {
     "data": {
      "text/html": [
       "<div>\n",
       "<style scoped>\n",
       "    .dataframe tbody tr th:only-of-type {\n",
       "        vertical-align: middle;\n",
       "    }\n",
       "\n",
       "    .dataframe tbody tr th {\n",
       "        vertical-align: top;\n",
       "    }\n",
       "\n",
       "    .dataframe thead th {\n",
       "        text-align: right;\n",
       "    }\n",
       "</style>\n",
       "<table border=\"1\" class=\"dataframe\">\n",
       "  <thead>\n",
       "    <tr style=\"text-align: right;\">\n",
       "      <th></th>\n",
       "      <th>DATE</th>\n",
       "      <th>OFFENSE</th>\n",
       "      <th>LEVEL</th>\n",
       "      <th>BOROUGH</th>\n",
       "      <th>AGE_GROUP</th>\n",
       "      <th>GENDER</th>\n",
       "      <th>RACE</th>\n",
       "    </tr>\n",
       "  </thead>\n",
       "  <tbody>\n",
       "    <tr>\n",
       "      <th>0</th>\n",
       "      <td>12/18/2021</td>\n",
       "      <td>RAPE</td>\n",
       "      <td>F</td>\n",
       "      <td>Q</td>\n",
       "      <td>18-24</td>\n",
       "      <td>M</td>\n",
       "      <td>BLACK</td>\n",
       "    </tr>\n",
       "    <tr>\n",
       "      <th>1</th>\n",
       "      <td>11/25/2021</td>\n",
       "      <td>ARSON</td>\n",
       "      <td>F</td>\n",
       "      <td>K</td>\n",
       "      <td>25-44</td>\n",
       "      <td>M</td>\n",
       "      <td>BLACK</td>\n",
       "    </tr>\n",
       "    <tr>\n",
       "      <th>2</th>\n",
       "      <td>10/14/2021</td>\n",
       "      <td>SEX CRIMES</td>\n",
       "      <td>F</td>\n",
       "      <td>K</td>\n",
       "      <td>25-44</td>\n",
       "      <td>M</td>\n",
       "      <td>WHITE</td>\n",
       "    </tr>\n",
       "    <tr>\n",
       "      <th>3</th>\n",
       "      <td>10/11/2021</td>\n",
       "      <td>ARSON</td>\n",
       "      <td>F</td>\n",
       "      <td>B</td>\n",
       "      <td>18-24</td>\n",
       "      <td>M</td>\n",
       "      <td>BLACK</td>\n",
       "    </tr>\n",
       "    <tr>\n",
       "      <th>5</th>\n",
       "      <td>09/27/2021</td>\n",
       "      <td>RAPE</td>\n",
       "      <td>F</td>\n",
       "      <td>K</td>\n",
       "      <td>25-44</td>\n",
       "      <td>M</td>\n",
       "      <td>BLACK</td>\n",
       "    </tr>\n",
       "  </tbody>\n",
       "</table>\n",
       "</div>"
      ],
      "text/plain": [
       "         DATE     OFFENSE LEVEL BOROUGH AGE_GROUP GENDER   RACE\n",
       "0  12/18/2021        RAPE     F       Q     18-24      M  BLACK\n",
       "1  11/25/2021       ARSON     F       K     25-44      M  BLACK\n",
       "2  10/14/2021  SEX CRIMES     F       K     25-44      M  WHITE\n",
       "3  10/11/2021       ARSON     F       B     18-24      M  BLACK\n",
       "5  09/27/2021        RAPE     F       K     25-44      M  BLACK"
      ]
     },
     "execution_count": 16,
     "metadata": {},
     "output_type": "execute_result"
    }
   ],
   "source": [
    "df.head()"
   ]
  },
  {
   "cell_type": "code",
   "execution_count": 17,
   "metadata": {},
   "outputs": [],
   "source": [
    "# Notes: change ARREST_DATE from string to date format"
   ]
  },
  {
   "cell_type": "code",
   "execution_count": 18,
   "metadata": {},
   "outputs": [
    {
     "name": "stdout",
     "output_type": "stream",
     "text": [
      "<class 'pandas.core.frame.DataFrame'>\n",
      "Int64Index: 154011 entries, 0 to 155506\n",
      "Data columns (total 7 columns):\n",
      " #   Column     Non-Null Count   Dtype         \n",
      "---  ------     --------------   -----         \n",
      " 0   DATE       154011 non-null  datetime64[ns]\n",
      " 1   OFFENSE    154011 non-null  object        \n",
      " 2   LEVEL      154011 non-null  object        \n",
      " 3   BOROUGH    154011 non-null  object        \n",
      " 4   AGE_GROUP  154011 non-null  object        \n",
      " 5   GENDER     154011 non-null  object        \n",
      " 6   RACE       154011 non-null  object        \n",
      "dtypes: datetime64[ns](1), object(6)\n",
      "memory usage: 5.9+ MB\n"
     ]
    }
   ],
   "source": [
    "df['DATE'] = pd.to_datetime(df['DATE'])\n",
    "df.info()"
   ]
  },
  {
   "cell_type": "code",
   "execution_count": 19,
   "metadata": {},
   "outputs": [
    {
     "data": {
      "text/plain": [
       "array(['F', 'M', 'V', 'I'], dtype=object)"
      ]
     },
     "execution_count": 19,
     "metadata": {},
     "output_type": "execute_result"
    }
   ],
   "source": [
    "df['LEVEL'].unique()"
   ]
  },
  {
   "cell_type": "code",
   "execution_count": 20,
   "metadata": {},
   "outputs": [
    {
     "data": {
      "text/plain": [
       "array(['RAPE', 'ARSON', 'SEX CRIMES', 'ASSAULT 3 & RELATED OFFENSES',\n",
       "       'FELONY ASSAULT', 'DANGEROUS WEAPONS', 'MISCELLANEOUS PENAL LAW',\n",
       "       'PETIT LARCENY', 'GRAND LARCENY OF MOTOR VEHICLE',\n",
       "       'DANGEROUS DRUGS', 'NYS LAWS-UNCLASSIFIED FELONY', 'GRAND LARCENY',\n",
       "       'OTHER OFFENSES RELATED TO THEF',\n",
       "       'PROSTITUTION & RELATED OFFENSES',\n",
       "       'OFFENSES AGAINST PUBLIC ADMINI', 'ROBBERY',\n",
       "       'CRIMINAL MISCHIEF & RELATED OF', 'OTHER TRAFFIC INFRACTION',\n",
       "       'FORGERY', 'INTOXICATED & IMPAIRED DRIVING',\n",
       "       'MURDER & NON-NEGL. MANSLAUGHTE', 'UNAUTHORIZED USE OF A VEHICLE',\n",
       "       'BURGLARY', 'OFFENSES INVOLVING FRAUD', 'VEHICLE AND TRAFFIC LAWS',\n",
       "       'OFF. AGNST PUB ORD SENSBLTY &', 'THEFT OF SERVICES',\n",
       "       'CRIMINAL TRESPASS', 'POSSESSION OF STOLEN PROPERTY',\n",
       "       'OTHER STATE LAWS (NON PENAL LA', 'FRAUDULENT ACCOSTING',\n",
       "       'OFFENSES AGAINST THE PERSON', 'FRAUDS', 'OTHER STATE LAWS',\n",
       "       'THEFT-FRAUD', 'INTOXICATED/IMPAIRED DRIVING', 'GAMBLING',\n",
       "       'HOMICIDE-NEGLIGENT-VEHICLE', 'ADMINISTRATIVE CODE',\n",
       "       \"BURGLAR'S TOOLS\", 'ALCOHOLIC BEVERAGE CONTROL LAW',\n",
       "       'ENDAN WELFARE INCOMP', 'PARKING OFFENSES',\n",
       "       'OFFENSES AGAINST PUBLIC SAFETY', 'JOSTLING', 'MOVING INFRACTIONS',\n",
       "       'KIDNAPPING & RELATED OFFENSES', 'KIDNAPPING',\n",
       "       'HOMICIDE-NEGLIGENT,UNCLASSIFIE',\n",
       "       'AGRICULTURE & MRKTS LAW-UNCLASSIFIED',\n",
       "       'OFFENSES RELATED TO CHILDREN', 'ANTICIPATORY OFFENSES',\n",
       "       'HARRASSMENT 2', 'DISORDERLY CONDUCT',\n",
       "       'OTHER STATE LAWS (NON PENAL LAW)',\n",
       "       'CHILD ABANDONMENT/NON SUPPORT', 'ESCAPE 3',\n",
       "       'LOITERING/GAMBLING (CARDS, DIC',\n",
       "       'KIDNAPPING AND RELATED OFFENSES', 'ADMINISTRATIVE CODES',\n",
       "       'FELONY SEX CRIMES', 'NEW YORK CITY HEALTH CODE'], dtype=object)"
      ]
     },
     "execution_count": 20,
     "metadata": {},
     "output_type": "execute_result"
    }
   ],
   "source": [
    "df['OFFENSE'].unique()"
   ]
  },
  {
   "cell_type": "code",
   "execution_count": 21,
   "metadata": {},
   "outputs": [
    {
     "data": {
      "text/plain": [
       "array(['Q', 'K', 'B', 'M', 'S'], dtype=object)"
      ]
     },
     "execution_count": 21,
     "metadata": {},
     "output_type": "execute_result"
    }
   ],
   "source": [
    "df['BOROUGH'].unique()"
   ]
  },
  {
   "cell_type": "code",
   "execution_count": 22,
   "metadata": {},
   "outputs": [
    {
     "data": {
      "text/html": [
       "<div>\n",
       "<style scoped>\n",
       "    .dataframe tbody tr th:only-of-type {\n",
       "        vertical-align: middle;\n",
       "    }\n",
       "\n",
       "    .dataframe tbody tr th {\n",
       "        vertical-align: top;\n",
       "    }\n",
       "\n",
       "    .dataframe thead th {\n",
       "        text-align: right;\n",
       "    }\n",
       "</style>\n",
       "<table border=\"1\" class=\"dataframe\">\n",
       "  <thead>\n",
       "    <tr style=\"text-align: right;\">\n",
       "      <th></th>\n",
       "      <th>DATE</th>\n",
       "      <th>OFFENSE</th>\n",
       "      <th>LEVEL</th>\n",
       "      <th>AGE_GROUP</th>\n",
       "      <th>GENDER</th>\n",
       "      <th>RACE</th>\n",
       "    </tr>\n",
       "    <tr>\n",
       "      <th>BOROUGH</th>\n",
       "      <th></th>\n",
       "      <th></th>\n",
       "      <th></th>\n",
       "      <th></th>\n",
       "      <th></th>\n",
       "      <th></th>\n",
       "    </tr>\n",
       "  </thead>\n",
       "  <tbody>\n",
       "    <tr>\n",
       "      <th>B</th>\n",
       "      <td>33646</td>\n",
       "      <td>33646</td>\n",
       "      <td>33646</td>\n",
       "      <td>33646</td>\n",
       "      <td>33646</td>\n",
       "      <td>33646</td>\n",
       "    </tr>\n",
       "    <tr>\n",
       "      <th>K</th>\n",
       "      <td>41312</td>\n",
       "      <td>41312</td>\n",
       "      <td>41312</td>\n",
       "      <td>41312</td>\n",
       "      <td>41312</td>\n",
       "      <td>41312</td>\n",
       "    </tr>\n",
       "    <tr>\n",
       "      <th>M</th>\n",
       "      <td>39044</td>\n",
       "      <td>39044</td>\n",
       "      <td>39044</td>\n",
       "      <td>39044</td>\n",
       "      <td>39044</td>\n",
       "      <td>39044</td>\n",
       "    </tr>\n",
       "    <tr>\n",
       "      <th>Q</th>\n",
       "      <td>32814</td>\n",
       "      <td>32814</td>\n",
       "      <td>32814</td>\n",
       "      <td>32814</td>\n",
       "      <td>32814</td>\n",
       "      <td>32814</td>\n",
       "    </tr>\n",
       "    <tr>\n",
       "      <th>S</th>\n",
       "      <td>7195</td>\n",
       "      <td>7195</td>\n",
       "      <td>7195</td>\n",
       "      <td>7195</td>\n",
       "      <td>7195</td>\n",
       "      <td>7195</td>\n",
       "    </tr>\n",
       "  </tbody>\n",
       "</table>\n",
       "</div>"
      ],
      "text/plain": [
       "          DATE  OFFENSE  LEVEL  AGE_GROUP  GENDER   RACE\n",
       "BOROUGH                                                 \n",
       "B        33646    33646  33646      33646   33646  33646\n",
       "K        41312    41312  41312      41312   41312  41312\n",
       "M        39044    39044  39044      39044   39044  39044\n",
       "Q        32814    32814  32814      32814   32814  32814\n",
       "S         7195     7195   7195       7195    7195   7195"
      ]
     },
     "execution_count": 22,
     "metadata": {},
     "output_type": "execute_result"
    }
   ],
   "source": [
    "df.groupby(['BOROUGH']).count()\n",
    "# B = Bronx, S = Staten Island, K = Brooklyn, M = Manhattan, Q = Queens "
   ]
  },
  {
   "cell_type": "code",
   "execution_count": 23,
   "metadata": {},
   "outputs": [
    {
     "data": {
      "text/html": [
       "<div>\n",
       "<style scoped>\n",
       "    .dataframe tbody tr th:only-of-type {\n",
       "        vertical-align: middle;\n",
       "    }\n",
       "\n",
       "    .dataframe tbody tr th {\n",
       "        vertical-align: top;\n",
       "    }\n",
       "\n",
       "    .dataframe thead th {\n",
       "        text-align: right;\n",
       "    }\n",
       "</style>\n",
       "<table border=\"1\" class=\"dataframe\">\n",
       "  <thead>\n",
       "    <tr style=\"text-align: right;\">\n",
       "      <th></th>\n",
       "      <th>DATE</th>\n",
       "      <th>OFFENSE</th>\n",
       "      <th>BOROUGH</th>\n",
       "      <th>AGE_GROUP</th>\n",
       "      <th>GENDER</th>\n",
       "      <th>RACE</th>\n",
       "    </tr>\n",
       "    <tr>\n",
       "      <th>LEVEL</th>\n",
       "      <th></th>\n",
       "      <th></th>\n",
       "      <th></th>\n",
       "      <th></th>\n",
       "      <th></th>\n",
       "      <th></th>\n",
       "    </tr>\n",
       "  </thead>\n",
       "  <tbody>\n",
       "    <tr>\n",
       "      <th>F</th>\n",
       "      <td>70821</td>\n",
       "      <td>70821</td>\n",
       "      <td>70821</td>\n",
       "      <td>70821</td>\n",
       "      <td>70821</td>\n",
       "      <td>70821</td>\n",
       "    </tr>\n",
       "    <tr>\n",
       "      <th>I</th>\n",
       "      <td>230</td>\n",
       "      <td>230</td>\n",
       "      <td>230</td>\n",
       "      <td>230</td>\n",
       "      <td>230</td>\n",
       "      <td>230</td>\n",
       "    </tr>\n",
       "    <tr>\n",
       "      <th>M</th>\n",
       "      <td>82575</td>\n",
       "      <td>82575</td>\n",
       "      <td>82575</td>\n",
       "      <td>82575</td>\n",
       "      <td>82575</td>\n",
       "      <td>82575</td>\n",
       "    </tr>\n",
       "    <tr>\n",
       "      <th>V</th>\n",
       "      <td>385</td>\n",
       "      <td>385</td>\n",
       "      <td>385</td>\n",
       "      <td>385</td>\n",
       "      <td>385</td>\n",
       "      <td>385</td>\n",
       "    </tr>\n",
       "  </tbody>\n",
       "</table>\n",
       "</div>"
      ],
      "text/plain": [
       "        DATE  OFFENSE  BOROUGH  AGE_GROUP  GENDER   RACE\n",
       "LEVEL                                                   \n",
       "F      70821    70821    70821      70821   70821  70821\n",
       "I        230      230      230        230     230    230\n",
       "M      82575    82575    82575      82575   82575  82575\n",
       "V        385      385      385        385     385    385"
      ]
     },
     "execution_count": 23,
     "metadata": {},
     "output_type": "execute_result"
    }
   ],
   "source": [
    "df.groupby(['LEVEL']).count()\n",
    "# F = Felony, I = Traffic Infraction, M = Misdemeanor, V = Violation"
   ]
  },
  {
   "cell_type": "code",
   "execution_count": 24,
   "metadata": {},
   "outputs": [],
   "source": [
    "# Display arrests by month citywide; most took place in October, fewest number of arrests were in April"
   ]
  },
  {
   "cell_type": "code",
   "execution_count": 25,
   "metadata": {},
   "outputs": [],
   "source": [
    "# I originally used a .count() delimiter below, but replaced it with .describe(). Output is sort of awkward-looking,\n",
    "# but it reveals some interesting monthly data, particularly with regard to counts. It appears that 9/21 was the \n",
    "# busiest day of the year for arrests."
   ]
  },
  {
   "cell_type": "code",
   "execution_count": 26,
   "metadata": {},
   "outputs": [
    {
     "data": {
      "text/html": [
       "<div>\n",
       "<style scoped>\n",
       "    .dataframe tbody tr th:only-of-type {\n",
       "        vertical-align: middle;\n",
       "    }\n",
       "\n",
       "    .dataframe tbody tr th {\n",
       "        vertical-align: top;\n",
       "    }\n",
       "\n",
       "    .dataframe thead tr th {\n",
       "        text-align: left;\n",
       "    }\n",
       "\n",
       "    .dataframe thead tr:last-of-type th {\n",
       "        text-align: right;\n",
       "    }\n",
       "</style>\n",
       "<table border=\"1\" class=\"dataframe\">\n",
       "  <thead>\n",
       "    <tr>\n",
       "      <th></th>\n",
       "      <th colspan=\"6\" halign=\"left\">DATE</th>\n",
       "      <th colspan=\"4\" halign=\"left\">OFFENSE</th>\n",
       "      <th>...</th>\n",
       "      <th colspan=\"4\" halign=\"left\">GENDER</th>\n",
       "      <th colspan=\"6\" halign=\"left\">RACE</th>\n",
       "    </tr>\n",
       "    <tr>\n",
       "      <th></th>\n",
       "      <th>count</th>\n",
       "      <th>unique</th>\n",
       "      <th>top</th>\n",
       "      <th>freq</th>\n",
       "      <th>first</th>\n",
       "      <th>last</th>\n",
       "      <th>count</th>\n",
       "      <th>unique</th>\n",
       "      <th>top</th>\n",
       "      <th>freq</th>\n",
       "      <th>...</th>\n",
       "      <th>top</th>\n",
       "      <th>freq</th>\n",
       "      <th>first</th>\n",
       "      <th>last</th>\n",
       "      <th>count</th>\n",
       "      <th>unique</th>\n",
       "      <th>top</th>\n",
       "      <th>freq</th>\n",
       "      <th>first</th>\n",
       "      <th>last</th>\n",
       "    </tr>\n",
       "    <tr>\n",
       "      <th>DATE</th>\n",
       "      <th></th>\n",
       "      <th></th>\n",
       "      <th></th>\n",
       "      <th></th>\n",
       "      <th></th>\n",
       "      <th></th>\n",
       "      <th></th>\n",
       "      <th></th>\n",
       "      <th></th>\n",
       "      <th></th>\n",
       "      <th></th>\n",
       "      <th></th>\n",
       "      <th></th>\n",
       "      <th></th>\n",
       "      <th></th>\n",
       "      <th></th>\n",
       "      <th></th>\n",
       "      <th></th>\n",
       "      <th></th>\n",
       "      <th></th>\n",
       "      <th></th>\n",
       "    </tr>\n",
       "  </thead>\n",
       "  <tbody>\n",
       "    <tr>\n",
       "      <th>Jan</th>\n",
       "      <td>13410</td>\n",
       "      <td>31</td>\n",
       "      <td>2021-01-06</td>\n",
       "      <td>626</td>\n",
       "      <td>2021-01-01</td>\n",
       "      <td>2021-01-31</td>\n",
       "      <td>13410</td>\n",
       "      <td>53</td>\n",
       "      <td>ASSAULT 3 &amp; RELATED OFFENSES</td>\n",
       "      <td>2077</td>\n",
       "      <td>...</td>\n",
       "      <td>M</td>\n",
       "      <td>11263</td>\n",
       "      <td>NaN</td>\n",
       "      <td>NaN</td>\n",
       "      <td>13410</td>\n",
       "      <td>7</td>\n",
       "      <td>BLACK</td>\n",
       "      <td>6873</td>\n",
       "      <td>NaN</td>\n",
       "      <td>NaN</td>\n",
       "    </tr>\n",
       "    <tr>\n",
       "      <th>Feb</th>\n",
       "      <td>11528</td>\n",
       "      <td>28</td>\n",
       "      <td>2021-02-04</td>\n",
       "      <td>611</td>\n",
       "      <td>2021-02-01</td>\n",
       "      <td>2021-02-28</td>\n",
       "      <td>11528</td>\n",
       "      <td>51</td>\n",
       "      <td>ASSAULT 3 &amp; RELATED OFFENSES</td>\n",
       "      <td>1900</td>\n",
       "      <td>...</td>\n",
       "      <td>M</td>\n",
       "      <td>9681</td>\n",
       "      <td>NaN</td>\n",
       "      <td>NaN</td>\n",
       "      <td>11528</td>\n",
       "      <td>7</td>\n",
       "      <td>BLACK</td>\n",
       "      <td>5663</td>\n",
       "      <td>NaN</td>\n",
       "      <td>NaN</td>\n",
       "    </tr>\n",
       "    <tr>\n",
       "      <th>Mar</th>\n",
       "      <td>13840</td>\n",
       "      <td>31</td>\n",
       "      <td>2021-03-10</td>\n",
       "      <td>618</td>\n",
       "      <td>2021-03-01</td>\n",
       "      <td>2021-03-31</td>\n",
       "      <td>13840</td>\n",
       "      <td>54</td>\n",
       "      <td>ASSAULT 3 &amp; RELATED OFFENSES</td>\n",
       "      <td>2326</td>\n",
       "      <td>...</td>\n",
       "      <td>M</td>\n",
       "      <td>11542</td>\n",
       "      <td>NaN</td>\n",
       "      <td>NaN</td>\n",
       "      <td>13840</td>\n",
       "      <td>7</td>\n",
       "      <td>BLACK</td>\n",
       "      <td>6980</td>\n",
       "      <td>NaN</td>\n",
       "      <td>NaN</td>\n",
       "    </tr>\n",
       "    <tr>\n",
       "      <th>Apr</th>\n",
       "      <td>10296</td>\n",
       "      <td>30</td>\n",
       "      <td>2021-04-07</td>\n",
       "      <td>534</td>\n",
       "      <td>2021-04-01</td>\n",
       "      <td>2021-04-30</td>\n",
       "      <td>10296</td>\n",
       "      <td>53</td>\n",
       "      <td>ASSAULT 3 &amp; RELATED OFFENSES</td>\n",
       "      <td>1981</td>\n",
       "      <td>...</td>\n",
       "      <td>M</td>\n",
       "      <td>8459</td>\n",
       "      <td>NaN</td>\n",
       "      <td>NaN</td>\n",
       "      <td>10296</td>\n",
       "      <td>7</td>\n",
       "      <td>BLACK</td>\n",
       "      <td>4861</td>\n",
       "      <td>NaN</td>\n",
       "      <td>NaN</td>\n",
       "    </tr>\n",
       "    <tr>\n",
       "      <th>May</th>\n",
       "      <td>11701</td>\n",
       "      <td>31</td>\n",
       "      <td>2021-05-19</td>\n",
       "      <td>555</td>\n",
       "      <td>2021-05-01</td>\n",
       "      <td>2021-05-31</td>\n",
       "      <td>11701</td>\n",
       "      <td>52</td>\n",
       "      <td>ASSAULT 3 &amp; RELATED OFFENSES</td>\n",
       "      <td>2170</td>\n",
       "      <td>...</td>\n",
       "      <td>M</td>\n",
       "      <td>9507</td>\n",
       "      <td>NaN</td>\n",
       "      <td>NaN</td>\n",
       "      <td>11701</td>\n",
       "      <td>7</td>\n",
       "      <td>BLACK</td>\n",
       "      <td>5904</td>\n",
       "      <td>NaN</td>\n",
       "      <td>NaN</td>\n",
       "    </tr>\n",
       "    <tr>\n",
       "      <th>Jun</th>\n",
       "      <td>12721</td>\n",
       "      <td>30</td>\n",
       "      <td>2021-06-10</td>\n",
       "      <td>611</td>\n",
       "      <td>2021-06-01</td>\n",
       "      <td>2021-06-30</td>\n",
       "      <td>12721</td>\n",
       "      <td>54</td>\n",
       "      <td>ASSAULT 3 &amp; RELATED OFFENSES</td>\n",
       "      <td>2203</td>\n",
       "      <td>...</td>\n",
       "      <td>M</td>\n",
       "      <td>10600</td>\n",
       "      <td>NaN</td>\n",
       "      <td>NaN</td>\n",
       "      <td>12721</td>\n",
       "      <td>7</td>\n",
       "      <td>BLACK</td>\n",
       "      <td>6298</td>\n",
       "      <td>NaN</td>\n",
       "      <td>NaN</td>\n",
       "    </tr>\n",
       "    <tr>\n",
       "      <th>Jul</th>\n",
       "      <td>13454</td>\n",
       "      <td>31</td>\n",
       "      <td>2021-07-14</td>\n",
       "      <td>632</td>\n",
       "      <td>2021-07-01</td>\n",
       "      <td>2021-07-31</td>\n",
       "      <td>13454</td>\n",
       "      <td>55</td>\n",
       "      <td>ASSAULT 3 &amp; RELATED OFFENSES</td>\n",
       "      <td>2451</td>\n",
       "      <td>...</td>\n",
       "      <td>M</td>\n",
       "      <td>11107</td>\n",
       "      <td>NaN</td>\n",
       "      <td>NaN</td>\n",
       "      <td>13454</td>\n",
       "      <td>7</td>\n",
       "      <td>BLACK</td>\n",
       "      <td>6729</td>\n",
       "      <td>NaN</td>\n",
       "      <td>NaN</td>\n",
       "    </tr>\n",
       "    <tr>\n",
       "      <th>Aug</th>\n",
       "      <td>13599</td>\n",
       "      <td>31</td>\n",
       "      <td>2021-08-19</td>\n",
       "      <td>611</td>\n",
       "      <td>2021-08-01</td>\n",
       "      <td>2021-08-31</td>\n",
       "      <td>13599</td>\n",
       "      <td>55</td>\n",
       "      <td>ASSAULT 3 &amp; RELATED OFFENSES</td>\n",
       "      <td>2422</td>\n",
       "      <td>...</td>\n",
       "      <td>M</td>\n",
       "      <td>11383</td>\n",
       "      <td>NaN</td>\n",
       "      <td>NaN</td>\n",
       "      <td>13599</td>\n",
       "      <td>7</td>\n",
       "      <td>BLACK</td>\n",
       "      <td>6672</td>\n",
       "      <td>NaN</td>\n",
       "      <td>NaN</td>\n",
       "    </tr>\n",
       "    <tr>\n",
       "      <th>Sep</th>\n",
       "      <td>13609</td>\n",
       "      <td>30</td>\n",
       "      <td>2021-09-21</td>\n",
       "      <td>695</td>\n",
       "      <td>2021-09-01</td>\n",
       "      <td>2021-09-30</td>\n",
       "      <td>13609</td>\n",
       "      <td>57</td>\n",
       "      <td>ASSAULT 3 &amp; RELATED OFFENSES</td>\n",
       "      <td>2407</td>\n",
       "      <td>...</td>\n",
       "      <td>M</td>\n",
       "      <td>11282</td>\n",
       "      <td>NaN</td>\n",
       "      <td>NaN</td>\n",
       "      <td>13609</td>\n",
       "      <td>7</td>\n",
       "      <td>BLACK</td>\n",
       "      <td>6615</td>\n",
       "      <td>NaN</td>\n",
       "      <td>NaN</td>\n",
       "    </tr>\n",
       "    <tr>\n",
       "      <th>Oct</th>\n",
       "      <td>14341</td>\n",
       "      <td>31</td>\n",
       "      <td>2021-10-13</td>\n",
       "      <td>674</td>\n",
       "      <td>2021-10-01</td>\n",
       "      <td>2021-10-31</td>\n",
       "      <td>14341</td>\n",
       "      <td>54</td>\n",
       "      <td>ASSAULT 3 &amp; RELATED OFFENSES</td>\n",
       "      <td>2510</td>\n",
       "      <td>...</td>\n",
       "      <td>M</td>\n",
       "      <td>11794</td>\n",
       "      <td>NaN</td>\n",
       "      <td>NaN</td>\n",
       "      <td>14341</td>\n",
       "      <td>7</td>\n",
       "      <td>BLACK</td>\n",
       "      <td>7253</td>\n",
       "      <td>NaN</td>\n",
       "      <td>NaN</td>\n",
       "    </tr>\n",
       "    <tr>\n",
       "      <th>Nov</th>\n",
       "      <td>12965</td>\n",
       "      <td>30</td>\n",
       "      <td>2021-11-17</td>\n",
       "      <td>642</td>\n",
       "      <td>2021-11-01</td>\n",
       "      <td>2021-11-30</td>\n",
       "      <td>12965</td>\n",
       "      <td>54</td>\n",
       "      <td>ASSAULT 3 &amp; RELATED OFFENSES</td>\n",
       "      <td>2289</td>\n",
       "      <td>...</td>\n",
       "      <td>M</td>\n",
       "      <td>10683</td>\n",
       "      <td>NaN</td>\n",
       "      <td>NaN</td>\n",
       "      <td>12965</td>\n",
       "      <td>7</td>\n",
       "      <td>BLACK</td>\n",
       "      <td>6463</td>\n",
       "      <td>NaN</td>\n",
       "      <td>NaN</td>\n",
       "    </tr>\n",
       "    <tr>\n",
       "      <th>Dec</th>\n",
       "      <td>12547</td>\n",
       "      <td>31</td>\n",
       "      <td>2021-12-01</td>\n",
       "      <td>594</td>\n",
       "      <td>2021-12-01</td>\n",
       "      <td>2021-12-31</td>\n",
       "      <td>12547</td>\n",
       "      <td>54</td>\n",
       "      <td>ASSAULT 3 &amp; RELATED OFFENSES</td>\n",
       "      <td>2119</td>\n",
       "      <td>...</td>\n",
       "      <td>M</td>\n",
       "      <td>10263</td>\n",
       "      <td>NaN</td>\n",
       "      <td>NaN</td>\n",
       "      <td>12547</td>\n",
       "      <td>7</td>\n",
       "      <td>BLACK</td>\n",
       "      <td>6274</td>\n",
       "      <td>NaN</td>\n",
       "      <td>NaN</td>\n",
       "    </tr>\n",
       "  </tbody>\n",
       "</table>\n",
       "<p>12 rows × 42 columns</p>\n",
       "</div>"
      ],
      "text/plain": [
       "       DATE                                              OFFENSE         \\\n",
       "      count unique        top freq      first       last   count unique   \n",
       "DATE                                                                      \n",
       "Jan   13410     31 2021-01-06  626 2021-01-01 2021-01-31   13410     53   \n",
       "Feb   11528     28 2021-02-04  611 2021-02-01 2021-02-28   11528     51   \n",
       "Mar   13840     31 2021-03-10  618 2021-03-01 2021-03-31   13840     54   \n",
       "Apr   10296     30 2021-04-07  534 2021-04-01 2021-04-30   10296     53   \n",
       "May   11701     31 2021-05-19  555 2021-05-01 2021-05-31   11701     52   \n",
       "Jun   12721     30 2021-06-10  611 2021-06-01 2021-06-30   12721     54   \n",
       "Jul   13454     31 2021-07-14  632 2021-07-01 2021-07-31   13454     55   \n",
       "Aug   13599     31 2021-08-19  611 2021-08-01 2021-08-31   13599     55   \n",
       "Sep   13609     30 2021-09-21  695 2021-09-01 2021-09-30   13609     57   \n",
       "Oct   14341     31 2021-10-13  674 2021-10-01 2021-10-31   14341     54   \n",
       "Nov   12965     30 2021-11-17  642 2021-11-01 2021-11-30   12965     54   \n",
       "Dec   12547     31 2021-12-01  594 2021-12-01 2021-12-31   12547     54   \n",
       "\n",
       "                                          ... GENDER                     RACE  \\\n",
       "                               top  freq  ...    top   freq first last  count   \n",
       "DATE                                      ...                                   \n",
       "Jan   ASSAULT 3 & RELATED OFFENSES  2077  ...      M  11263   NaN  NaN  13410   \n",
       "Feb   ASSAULT 3 & RELATED OFFENSES  1900  ...      M   9681   NaN  NaN  11528   \n",
       "Mar   ASSAULT 3 & RELATED OFFENSES  2326  ...      M  11542   NaN  NaN  13840   \n",
       "Apr   ASSAULT 3 & RELATED OFFENSES  1981  ...      M   8459   NaN  NaN  10296   \n",
       "May   ASSAULT 3 & RELATED OFFENSES  2170  ...      M   9507   NaN  NaN  11701   \n",
       "Jun   ASSAULT 3 & RELATED OFFENSES  2203  ...      M  10600   NaN  NaN  12721   \n",
       "Jul   ASSAULT 3 & RELATED OFFENSES  2451  ...      M  11107   NaN  NaN  13454   \n",
       "Aug   ASSAULT 3 & RELATED OFFENSES  2422  ...      M  11383   NaN  NaN  13599   \n",
       "Sep   ASSAULT 3 & RELATED OFFENSES  2407  ...      M  11282   NaN  NaN  13609   \n",
       "Oct   ASSAULT 3 & RELATED OFFENSES  2510  ...      M  11794   NaN  NaN  14341   \n",
       "Nov   ASSAULT 3 & RELATED OFFENSES  2289  ...      M  10683   NaN  NaN  12965   \n",
       "Dec   ASSAULT 3 & RELATED OFFENSES  2119  ...      M  10263   NaN  NaN  12547   \n",
       "\n",
       "                                     \n",
       "     unique    top  freq first last  \n",
       "DATE                                 \n",
       "Jan       7  BLACK  6873   NaN  NaN  \n",
       "Feb       7  BLACK  5663   NaN  NaN  \n",
       "Mar       7  BLACK  6980   NaN  NaN  \n",
       "Apr       7  BLACK  4861   NaN  NaN  \n",
       "May       7  BLACK  5904   NaN  NaN  \n",
       "Jun       7  BLACK  6298   NaN  NaN  \n",
       "Jul       7  BLACK  6729   NaN  NaN  \n",
       "Aug       7  BLACK  6672   NaN  NaN  \n",
       "Sep       7  BLACK  6615   NaN  NaN  \n",
       "Oct       7  BLACK  7253   NaN  NaN  \n",
       "Nov       7  BLACK  6463   NaN  NaN  \n",
       "Dec       7  BLACK  6274   NaN  NaN  \n",
       "\n",
       "[12 rows x 42 columns]"
      ]
     },
     "execution_count": 26,
     "metadata": {},
     "output_type": "execute_result"
    }
   ],
   "source": [
    "dfg = df.groupby(pd.Grouper(key='DATE',freq='1M')).describe()\n",
    "dfg.index = dfg.index.strftime('%b')\n",
    "dfg"
   ]
  },
  {
   "cell_type": "code",
   "execution_count": 27,
   "metadata": {},
   "outputs": [
    {
     "data": {
      "text/plain": [
       "K    41312\n",
       "M    39044\n",
       "B    33646\n",
       "Q    32814\n",
       "S     7195\n",
       "Name: BOROUGH, dtype: int64"
      ]
     },
     "execution_count": 27,
     "metadata": {},
     "output_type": "execute_result"
    }
   ],
   "source": [
    "df['BOROUGH'].value_counts()"
   ]
  },
  {
   "cell_type": "code",
   "execution_count": 28,
   "metadata": {},
   "outputs": [
    {
     "data": {
      "image/png": "[encoded data removed]",
      "text/plain": [
       "<Figure size 1440x288 with 1 Axes>"
      ]
     },
     "metadata": {},
     "output_type": "display_data"
    }
   ],
   "source": [
    "plt.figure(figsize=(20,4))\n",
    "sns.countplot(x='BOROUGH', data=df,palette='Blues')\n",
    "positions = (0,1,2,3,4)\n",
    "labels = ('Queens', 'Brooklyn', 'Bronx', 'Manhattan', 'Staten Island')\n",
    "plt.xticks(positions, labels)\n",
    "plt.show()"
   ]
  },
  {
   "cell_type": "code",
   "execution_count": 29,
   "metadata": {},
   "outputs": [
    {
     "data": {
      "text/plain": [
       "25-44    87873\n",
       "45-64    30329\n",
       "18-24    28741\n",
       "<18       4799\n",
       "65+       2269\n",
       "Name: AGE_GROUP, dtype: int64"
      ]
     },
     "execution_count": 29,
     "metadata": {},
     "output_type": "execute_result"
    }
   ],
   "source": [
    "df['AGE_GROUP'].value_counts()"
   ]
  },
  {
   "cell_type": "code",
   "execution_count": 30,
   "metadata": {},
   "outputs": [
    {
     "data": {
      "text/plain": [
       "M    127564\n",
       "F     26447\n",
       "Name: GENDER, dtype: int64"
      ]
     },
     "execution_count": 30,
     "metadata": {},
     "output_type": "execute_result"
    }
   ],
   "source": [
    "df['GENDER'].value_counts()"
   ]
  },
  {
   "cell_type": "code",
   "execution_count": 31,
   "metadata": {},
   "outputs": [
    {
     "data": {
      "text/plain": [
       "BLACK                             76585\n",
       "WHITE HISPANIC                    37665\n",
       "WHITE                             16918\n",
       "BLACK HISPANIC                    13345\n",
       "ASIAN / PACIFIC ISLANDER           8480\n",
       "UNKNOWN                             576\n",
       "AMERICAN INDIAN/ALASKAN NATIVE      442\n",
       "Name: RACE, dtype: int64"
      ]
     },
     "execution_count": 31,
     "metadata": {},
     "output_type": "execute_result"
    }
   ],
   "source": [
    "df['RACE'].value_counts()"
   ]
  },
  {
   "cell_type": "code",
   "execution_count": 32,
   "metadata": {},
   "outputs": [],
   "source": [
    "# I analyzed arrests in Brooklyn, noting that most arrests took place there.\n",
    "# Largest number of individuals arrested were between 25 and 44, Black, and Male\n",
    "# Categories with the highest number of arrests in that age group were Misdemeanors (11828), followed by Felonies (11502)\n",
    "# Examining Felonies, most arrests were for Felony Assault\n",
    "# Examining Misdemeanors, most arrests were for Assault 3 and Related Offenses\n"
   ]
  },
  {
   "cell_type": "code",
   "execution_count": 33,
   "metadata": {},
   "outputs": [],
   "source": [
    "dfB = df[df['BOROUGH']== 'K']"
   ]
  },
  {
   "cell_type": "code",
   "execution_count": 34,
   "metadata": {},
   "outputs": [
    {
     "data": {
      "text/plain": [
       "<matplotlib.axes._subplots.AxesSubplot at 0x12741e90>"
      ]
     },
     "execution_count": 34,
     "metadata": {},
     "output_type": "execute_result"
    },
    {
     "data": {
      "image/png": "[encoded data removed]",
      "text/plain": [
       "<Figure size 1440x288 with 1 Axes>"
      ]
     },
     "metadata": {},
     "output_type": "display_data"
    }
   ],
   "source": [
    "plt.figure(figsize=(20,4))\n",
    "sns.countplot(x='DATE', data=dfB,palette='Blues')"
   ]
  },
  {
   "cell_type": "code",
   "execution_count": 35,
   "metadata": {},
   "outputs": [
    {
     "data": {
      "text/plain": [
       "25-44    23508\n",
       "18-24     8092\n",
       "45-64     7653\n",
       "<18       1466\n",
       "65+        593\n",
       "Name: AGE_GROUP, dtype: int64"
      ]
     },
     "execution_count": 35,
     "metadata": {},
     "output_type": "execute_result"
    }
   ],
   "source": [
    "dfB['AGE_GROUP'].value_counts()"
   ]
  },
  {
   "cell_type": "code",
   "execution_count": 36,
   "metadata": {},
   "outputs": [
    {
     "data": {
      "text/plain": [
       "<matplotlib.axes._subplots.AxesSubplot at 0x129ec2b0>"
      ]
     },
     "execution_count": 36,
     "metadata": {},
     "output_type": "execute_result"
    },
    {
     "data": {
      "image/png": "[encoded data removed]",
      "text/plain": [
       "<Figure size 864x288 with 1 Axes>"
      ]
     },
     "metadata": {},
     "output_type": "display_data"
    }
   ],
   "source": [
    "plt.figure(figsize=(12,4))\n",
    "sns.countplot(x='AGE_GROUP', data=dfB,palette='Blues')"
   ]
  },
  {
   "cell_type": "code",
   "execution_count": 37,
   "metadata": {
    "scrolled": true
   },
   "outputs": [
    {
     "data": {
      "text/plain": [
       "BLACK                             24490\n",
       "WHITE HISPANIC                     7565\n",
       "WHITE                              5211\n",
       "BLACK HISPANIC                     1964\n",
       "ASIAN / PACIFIC ISLANDER           1843\n",
       "UNKNOWN                             126\n",
       "AMERICAN INDIAN/ALASKAN NATIVE      113\n",
       "Name: RACE, dtype: int64"
      ]
     },
     "execution_count": 37,
     "metadata": {},
     "output_type": "execute_result"
    }
   ],
   "source": [
    "dfB['RACE'].value_counts()"
   ]
  },
  {
   "cell_type": "code",
   "execution_count": 38,
   "metadata": {},
   "outputs": [
    {
     "data": {
      "text/plain": [
       "<matplotlib.axes._subplots.AxesSubplot at 0x129ed2f0>"
      ]
     },
     "execution_count": 38,
     "metadata": {},
     "output_type": "execute_result"
    },
    {
     "data": {
      "image/png": "[encoded data removed]",
      "text/plain": [
       "<Figure size 1440x288 with 1 Axes>"
      ]
     },
     "metadata": {},
     "output_type": "display_data"
    }
   ],
   "source": [
    "plt.figure(figsize=(20,4))\n",
    "sns.countplot(x='RACE', data=dfB,palette='Blues')"
   ]
  },
  {
   "cell_type": "code",
   "execution_count": 39,
   "metadata": {},
   "outputs": [
    {
     "data": {
      "text/plain": [
       "M    34437\n",
       "F     6875\n",
       "Name: GENDER, dtype: int64"
      ]
     },
     "execution_count": 39,
     "metadata": {},
     "output_type": "execute_result"
    }
   ],
   "source": [
    "dfB['GENDER'].value_counts()"
   ]
  },
  {
   "cell_type": "code",
   "execution_count": 40,
   "metadata": {},
   "outputs": [],
   "source": [
    "dfA = dfB[dfB['AGE_GROUP']== '25-44']"
   ]
  },
  {
   "cell_type": "code",
   "execution_count": 41,
   "metadata": {},
   "outputs": [
    {
     "data": {
      "text/plain": [
       "M    11828\n",
       "F    11502\n",
       "V      152\n",
       "I       26\n",
       "Name: LEVEL, dtype: int64"
      ]
     },
     "execution_count": 41,
     "metadata": {},
     "output_type": "execute_result"
    }
   ],
   "source": [
    "dfA['LEVEL'].value_counts()"
   ]
  },
  {
   "cell_type": "code",
   "execution_count": 42,
   "metadata": {},
   "outputs": [
    {
     "data": {
      "image/png": "[encoded data removed]",
      "text/plain": [
       "<Figure size 1440x288 with 1 Axes>"
      ]
     },
     "metadata": {},
     "output_type": "display_data"
    }
   ],
   "source": [
    "plt.figure(figsize=(20,4))\n",
    "sns.countplot(x='LEVEL', data=df,palette='Blues')\n",
    "positions = (0,1,2,3)\n",
    "labels = ('Felony', 'Misdemeanor', 'Violation', 'Traffic Infraction')\n",
    "plt.xticks(positions, labels)\n",
    "plt.show()"
   ]
  },
  {
   "cell_type": "code",
   "execution_count": 43,
   "metadata": {},
   "outputs": [
    {
     "data": {
      "text/plain": [
       "<matplotlib.axes._subplots.AxesSubplot at 0x145f9030>"
      ]
     },
     "execution_count": 43,
     "metadata": {},
     "output_type": "execute_result"
    },
    {
     "data": {
      "image/png": "[encoded data removed]",
      "text/plain": [
       "<Figure size 1440x288 with 1 Axes>"
      ]
     },
     "metadata": {},
     "output_type": "display_data"
    }
   ],
   "source": [
    "plt.figure(figsize=(20,4))\n",
    "sns.countplot(x='LEVEL', data=dfB,palette='Blues')"
   ]
  },
  {
   "cell_type": "code",
   "execution_count": 44,
   "metadata": {},
   "outputs": [],
   "source": [
    "# Felonies"
   ]
  },
  {
   "cell_type": "code",
   "execution_count": 45,
   "metadata": {},
   "outputs": [],
   "source": [
    "dfL1 = dfA[dfA['LEVEL']== 'F']"
   ]
  },
  {
   "cell_type": "code",
   "execution_count": 46,
   "metadata": {},
   "outputs": [
    {
     "data": {
      "text/plain": [
       "FELONY ASSAULT                     2667\n",
       "MISCELLANEOUS PENAL LAW            2131\n",
       "ROBBERY                            1025\n",
       "DANGEROUS WEAPONS                   985\n",
       "CRIMINAL MISCHIEF & RELATED OF      801\n",
       "DANGEROUS DRUGS                     775\n",
       "BURGLARY                            755\n",
       "GRAND LARCENY                       693\n",
       "FORGERY                             646\n",
       "MURDER & NON-NEGL. MANSLAUGHTE      193\n",
       "GRAND LARCENY OF MOTOR VEHICLE      165\n",
       "POSSESSION OF STOLEN PROPERTY       135\n",
       "NYS LAWS-UNCLASSIFIED FELONY        124\n",
       "INTOXICATED/IMPAIRED DRIVING        103\n",
       "SEX CRIMES                           95\n",
       "RAPE                                 84\n",
       "VEHICLE AND TRAFFIC LAWS             28\n",
       "ARSON                                21\n",
       "THEFT-FRAUD                          20\n",
       "KIDNAPPING & RELATED OFFENSES        15\n",
       "GAMBLING                             10\n",
       "INTOXICATED & IMPAIRED DRIVING       10\n",
       "CHILD ABANDONMENT/NON SUPPORT         9\n",
       "OTHER STATE LAWS (NON PENAL LA        8\n",
       "KIDNAPPING                            2\n",
       "PROSTITUTION & RELATED OFFENSES       1\n",
       "HOMICIDE-NEGLIGENT,UNCLASSIFIE        1\n",
       "Name: OFFENSE, dtype: int64"
      ]
     },
     "execution_count": 46,
     "metadata": {},
     "output_type": "execute_result"
    }
   ],
   "source": [
    "dfL1['OFFENSE'].value_counts()"
   ]
  },
  {
   "cell_type": "code",
   "execution_count": 47,
   "metadata": {},
   "outputs": [],
   "source": [
    "# Misdemeanors"
   ]
  },
  {
   "cell_type": "code",
   "execution_count": 48,
   "metadata": {},
   "outputs": [],
   "source": [
    "dfL2 = dfA[dfA['LEVEL']== 'M']"
   ]
  },
  {
   "cell_type": "code",
   "execution_count": 49,
   "metadata": {},
   "outputs": [
    {
     "data": {
      "text/plain": [
       "ASSAULT 3 & RELATED OFFENSES            3910\n",
       "PETIT LARCENY                           1691\n",
       "VEHICLE AND TRAFFIC LAWS                 825\n",
       "CRIMINAL MISCHIEF & RELATED OF           753\n",
       "OFFENSES INVOLVING FRAUD                 652\n",
       "OFF. AGNST PUB ORD SENSBLTY &            632\n",
       "DANGEROUS DRUGS                          571\n",
       "SEX CRIMES                               433\n",
       "OFFENSES AGAINST PUBLIC ADMINI           408\n",
       "INTOXICATED & IMPAIRED DRIVING           394\n",
       "OTHER OFFENSES RELATED TO THEF           332\n",
       "OTHER TRAFFIC INFRACTION                 298\n",
       "DANGEROUS WEAPONS                        188\n",
       "CRIMINAL TRESPASS                        180\n",
       "POSSESSION OF STOLEN PROPERTY            103\n",
       "OFFENSES AGAINST THE PERSON               90\n",
       "ALCOHOLIC BEVERAGE CONTROL LAW            80\n",
       "UNAUTHORIZED USE OF A VEHICLE             69\n",
       "BURGLAR'S TOOLS                           51\n",
       "GAMBLING                                  47\n",
       "FRAUDS                                    37\n",
       "PROSTITUTION & RELATED OFFENSES           25\n",
       "OTHER STATE LAWS (NON PENAL LA            23\n",
       "AGRICULTURE & MRKTS LAW-UNCLASSIFIED      14\n",
       "THEFT OF SERVICES                          6\n",
       "ADMINISTRATIVE CODE                        4\n",
       "ANTICIPATORY OFFENSES                      4\n",
       "OFFENSES AGAINST PUBLIC SAFETY             3\n",
       "ENDAN WELFARE INCOMP                       2\n",
       "OFFENSES RELATED TO CHILDREN               2\n",
       "JOSTLING                                   1\n",
       "Name: OFFENSE, dtype: int64"
      ]
     },
     "execution_count": 49,
     "metadata": {},
     "output_type": "execute_result"
    }
   ],
   "source": [
    "dfL2['OFFENSE'].value_counts()"
   ]
  },
  {
   "cell_type": "code",
   "execution_count": 50,
   "metadata": {},
   "outputs": [],
   "source": [
    "dfO1 = dfL1[dfL1['OFFENSE']== 'FELONY ASSAULT']"
   ]
  },
  {
   "cell_type": "code",
   "execution_count": 51,
   "metadata": {},
   "outputs": [
    {
     "data": {
      "text/plain": [
       "BLACK                             1740\n",
       "WHITE HISPANIC                     430\n",
       "WHITE                              257\n",
       "BLACK HISPANIC                     123\n",
       "ASIAN / PACIFIC ISLANDER           102\n",
       "AMERICAN INDIAN/ALASKAN NATIVE       8\n",
       "UNKNOWN                              7\n",
       "Name: RACE, dtype: int64"
      ]
     },
     "execution_count": 51,
     "metadata": {},
     "output_type": "execute_result"
    }
   ],
   "source": [
    "dfO1['RACE'].value_counts()"
   ]
  },
  {
   "cell_type": "code",
   "execution_count": 52,
   "metadata": {},
   "outputs": [
    {
     "data": {
      "text/plain": [
       "<matplotlib.axes._subplots.AxesSubplot at 0x129d2f90>"
      ]
     },
     "execution_count": 52,
     "metadata": {},
     "output_type": "execute_result"
    },
    {
     "data": {
      "image/png": "[encoded data removed]",
      "text/plain": [
       "<Figure size 1584x288 with 1 Axes>"
      ]
     },
     "metadata": {},
     "output_type": "display_data"
    }
   ],
   "source": [
    "plt.figure(figsize=(22,4))\n",
    "sns.countplot(x='RACE', data=dfO1,palette='Blues')"
   ]
  },
  {
   "cell_type": "code",
   "execution_count": 53,
   "metadata": {},
   "outputs": [
    {
     "data": {
      "text/plain": [
       "M    1961\n",
       "F     706\n",
       "Name: GENDER, dtype: int64"
      ]
     },
     "execution_count": 53,
     "metadata": {},
     "output_type": "execute_result"
    }
   ],
   "source": [
    "dfO1['GENDER'].value_counts()"
   ]
  }
 ],
 "metadata": {
  "kernelspec": {
   "display_name": "Python 3",
   "language": "python",
   "name": "python3"
  },
  "language_info": {
   "codemirror_mode": {
    "name": "ipython",
    "version": 3
   },
   "file_extension": ".py",
   "mimetype": "text/x-python",
   "name": "python",
   "nbconvert_exporter": "python",
   "pygments_lexer": "ipython3",
   "version": "3.7.6"
  }
 },
 "nbformat": 4,
 "nbformat_minor": 4
}
