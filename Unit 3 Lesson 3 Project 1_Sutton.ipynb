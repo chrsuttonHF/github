{
 "cells": [
  {
   "cell_type": "markdown",
   "metadata": {},
   "source": [
    "# Unit 3 Lesson 5 Project 1"
   ]
  },
  {
   "cell_type": "code",
   "execution_count": 1,
   "metadata": {},
   "outputs": [],
   "source": [
    "# Analysis of Regents exam scores in the NYC school system (2015-2017)"
   ]
  },
  {
   "cell_type": "code",
   "execution_count": 2,
   "metadata": {},
   "outputs": [],
   "source": [
    "# Software packages"
   ]
  },
  {
   "cell_type": "code",
   "execution_count": 3,
   "metadata": {},
   "outputs": [],
   "source": [
    "import pandas as pd\n",
    "import numpy as np\n",
    "import seaborn as sns #viz\n",
    "import matplotlib.pyplot as plt #viz\n",
    "%matplotlib inline\n",
    "sns.set(color_codes=True)"
   ]
  },
  {
   "cell_type": "code",
   "execution_count": 4,
   "metadata": {},
   "outputs": [],
   "source": [
    "# Read in the dataset and make a list of missing (non-standard) values"
   ]
  },
  {
   "cell_type": "code",
   "execution_count": 5,
   "metadata": {},
   "outputs": [],
   "source": [
    "missing_values = [\"na\", \"s\"]"
   ]
  },
  {
   "cell_type": "code",
   "execution_count": 6,
   "metadata": {},
   "outputs": [],
   "source": [
    "df = pd.read_csv('https://raw.githubusercontent.com/CunyLaguardiaDataAnalytics/datasets/master/2014-15_To_2016-17_School-_Level_NYC_Regents_Report_For_All_Variables.csv',na_values = missing_values)"
   ]
  },
  {
   "cell_type": "code",
   "execution_count": 7,
   "metadata": {},
   "outputs": [
    {
     "data": {
      "text/html": [
       "<div>\n",
       "<style scoped>\n",
       "    .dataframe tbody tr th:only-of-type {\n",
       "        vertical-align: middle;\n",
       "    }\n",
       "\n",
       "    .dataframe tbody tr th {\n",
       "        vertical-align: top;\n",
       "    }\n",
       "\n",
       "    .dataframe thead th {\n",
       "        text-align: right;\n",
       "    }\n",
       "</style>\n",
       "<table border=\"1\" class=\"dataframe\">\n",
       "  <thead>\n",
       "    <tr style=\"text-align: right;\">\n",
       "      <th></th>\n",
       "      <th>School DBN</th>\n",
       "      <th>School Name</th>\n",
       "      <th>School Level</th>\n",
       "      <th>Regents Exam</th>\n",
       "      <th>Year</th>\n",
       "      <th>Total Tested</th>\n",
       "      <th>Mean Score</th>\n",
       "      <th>Number Scoring Below 65</th>\n",
       "      <th>Percent Scoring Below 65</th>\n",
       "      <th>Number Scoring 65 or Above</th>\n",
       "      <th>Percent Scoring 65 or Above</th>\n",
       "      <th>Number Scoring 80 or Above</th>\n",
       "      <th>Percent Scoring 80 or Above</th>\n",
       "      <th>Number Scoring CR</th>\n",
       "      <th>Percent Scoring CR</th>\n",
       "    </tr>\n",
       "  </thead>\n",
       "  <tbody>\n",
       "    <tr>\n",
       "      <th>0</th>\n",
       "      <td>01M034</td>\n",
       "      <td>P.S. 034 Franklin D. Roosevelt</td>\n",
       "      <td>K-8</td>\n",
       "      <td>Common Core Algebra</td>\n",
       "      <td>2017</td>\n",
       "      <td>4</td>\n",
       "      <td>NaN</td>\n",
       "      <td>NaN</td>\n",
       "      <td>NaN</td>\n",
       "      <td>NaN</td>\n",
       "      <td>NaN</td>\n",
       "      <td>NaN</td>\n",
       "      <td>NaN</td>\n",
       "      <td>NaN</td>\n",
       "      <td>NaN</td>\n",
       "    </tr>\n",
       "    <tr>\n",
       "      <th>1</th>\n",
       "      <td>01M034</td>\n",
       "      <td>P.S. 034 Franklin D. Roosevelt</td>\n",
       "      <td>K-8</td>\n",
       "      <td>Living Environment</td>\n",
       "      <td>2015</td>\n",
       "      <td>16</td>\n",
       "      <td>77.9</td>\n",
       "      <td>1.0</td>\n",
       "      <td>6.3</td>\n",
       "      <td>15.0</td>\n",
       "      <td>93.8</td>\n",
       "      <td>7.0</td>\n",
       "      <td>43.8</td>\n",
       "      <td>NaN</td>\n",
       "      <td>NaN</td>\n",
       "    </tr>\n",
       "  </tbody>\n",
       "</table>\n",
       "</div>"
      ],
      "text/plain": [
       "  School DBN                     School Name School Level  \\\n",
       "0     01M034  P.S. 034 Franklin D. Roosevelt          K-8   \n",
       "1     01M034  P.S. 034 Franklin D. Roosevelt          K-8   \n",
       "\n",
       "          Regents Exam  Year  Total Tested  Mean Score  \\\n",
       "0  Common Core Algebra  2017             4         NaN   \n",
       "1   Living Environment  2015            16        77.9   \n",
       "\n",
       "   Number Scoring Below 65  Percent Scoring Below 65  \\\n",
       "0                      NaN                       NaN   \n",
       "1                      1.0                       6.3   \n",
       "\n",
       "   Number Scoring 65 or Above  Percent Scoring 65 or Above  \\\n",
       "0                         NaN                          NaN   \n",
       "1                        15.0                         93.8   \n",
       "\n",
       "   Number Scoring 80 or Above  Percent Scoring 80 or Above  Number Scoring CR  \\\n",
       "0                         NaN                          NaN                NaN   \n",
       "1                         7.0                         43.8                NaN   \n",
       "\n",
       "   Percent Scoring CR  \n",
       "0                 NaN  \n",
       "1                 NaN  "
      ]
     },
     "execution_count": 7,
     "metadata": {},
     "output_type": "execute_result"
    }
   ],
   "source": [
    "df.head(2)"
   ]
  },
  {
   "cell_type": "code",
   "execution_count": 8,
   "metadata": {
    "scrolled": true
   },
   "outputs": [
    {
     "data": {
      "text/html": [
       "<div>\n",
       "<style scoped>\n",
       "    .dataframe tbody tr th:only-of-type {\n",
       "        vertical-align: middle;\n",
       "    }\n",
       "\n",
       "    .dataframe tbody tr th {\n",
       "        vertical-align: top;\n",
       "    }\n",
       "\n",
       "    .dataframe thead th {\n",
       "        text-align: right;\n",
       "    }\n",
       "</style>\n",
       "<table border=\"1\" class=\"dataframe\">\n",
       "  <thead>\n",
       "    <tr style=\"text-align: right;\">\n",
       "      <th></th>\n",
       "      <th>School DBN</th>\n",
       "      <th>School Name</th>\n",
       "      <th>School Level</th>\n",
       "      <th>Regents Exam</th>\n",
       "      <th>Year</th>\n",
       "      <th>Total Tested</th>\n",
       "      <th>Mean Score</th>\n",
       "      <th>Number Scoring Below 65</th>\n",
       "      <th>Percent Scoring Below 65</th>\n",
       "      <th>Number Scoring 65 or Above</th>\n",
       "      <th>Percent Scoring 65 or Above</th>\n",
       "      <th>Number Scoring 80 or Above</th>\n",
       "      <th>Percent Scoring 80 or Above</th>\n",
       "      <th>Number Scoring CR</th>\n",
       "      <th>Percent Scoring CR</th>\n",
       "    </tr>\n",
       "  </thead>\n",
       "  <tbody>\n",
       "    <tr>\n",
       "      <th>212329</th>\n",
       "      <td>84X717</td>\n",
       "      <td>Icahn Charter School</td>\n",
       "      <td>K-8</td>\n",
       "      <td>Living Environment</td>\n",
       "      <td>2017</td>\n",
       "      <td>4</td>\n",
       "      <td>NaN</td>\n",
       "      <td>NaN</td>\n",
       "      <td>NaN</td>\n",
       "      <td>NaN</td>\n",
       "      <td>NaN</td>\n",
       "      <td>NaN</td>\n",
       "      <td>NaN</td>\n",
       "      <td>NaN</td>\n",
       "      <td>NaN</td>\n",
       "    </tr>\n",
       "    <tr>\n",
       "      <th>212330</th>\n",
       "      <td>84X717</td>\n",
       "      <td>Icahn Charter School</td>\n",
       "      <td>K-8</td>\n",
       "      <td>U.S. History and Government</td>\n",
       "      <td>2015</td>\n",
       "      <td>1</td>\n",
       "      <td>NaN</td>\n",
       "      <td>NaN</td>\n",
       "      <td>NaN</td>\n",
       "      <td>NaN</td>\n",
       "      <td>NaN</td>\n",
       "      <td>NaN</td>\n",
       "      <td>NaN</td>\n",
       "      <td>NaN</td>\n",
       "      <td>NaN</td>\n",
       "    </tr>\n",
       "  </tbody>\n",
       "</table>\n",
       "</div>"
      ],
      "text/plain": [
       "       School DBN           School Name School Level  \\\n",
       "212329     84X717  Icahn Charter School          K-8   \n",
       "212330     84X717  Icahn Charter School          K-8   \n",
       "\n",
       "                       Regents Exam  Year  Total Tested  Mean Score  \\\n",
       "212329           Living Environment  2017             4         NaN   \n",
       "212330  U.S. History and Government  2015             1         NaN   \n",
       "\n",
       "        Number Scoring Below 65  Percent Scoring Below 65  \\\n",
       "212329                      NaN                       NaN   \n",
       "212330                      NaN                       NaN   \n",
       "\n",
       "        Number Scoring 65 or Above  Percent Scoring 65 or Above  \\\n",
       "212329                         NaN                          NaN   \n",
       "212330                         NaN                          NaN   \n",
       "\n",
       "        Number Scoring 80 or Above  Percent Scoring 80 or Above  \\\n",
       "212329                         NaN                          NaN   \n",
       "212330                         NaN                          NaN   \n",
       "\n",
       "        Number Scoring CR  Percent Scoring CR  \n",
       "212329                NaN                 NaN  \n",
       "212330                NaN                 NaN  "
      ]
     },
     "execution_count": 8,
     "metadata": {},
     "output_type": "execute_result"
    }
   ],
   "source": [
    "df.tail(2)"
   ]
  },
  {
   "cell_type": "markdown",
   "metadata": {},
   "source": [
    "# Explore the dataset characteristics"
   ]
  },
  {
   "cell_type": "code",
   "execution_count": 9,
   "metadata": {},
   "outputs": [
    {
     "data": {
      "text/plain": [
       "School DBN                      object\n",
       "School Name                     object\n",
       "School Level                    object\n",
       "Regents Exam                    object\n",
       "Year                             int64\n",
       "Total Tested                     int64\n",
       "Mean Score                     float64\n",
       "Number Scoring Below 65        float64\n",
       "Percent Scoring Below 65       float64\n",
       "Number Scoring 65 or Above     float64\n",
       "Percent Scoring 65 or Above    float64\n",
       "Number Scoring 80 or Above     float64\n",
       "Percent Scoring 80 or Above    float64\n",
       "Number Scoring CR              float64\n",
       "Percent Scoring CR             float64\n",
       "dtype: object"
      ]
     },
     "execution_count": 9,
     "metadata": {},
     "output_type": "execute_result"
    }
   ],
   "source": [
    "df.dtypes"
   ]
  },
  {
   "cell_type": "code",
   "execution_count": 10,
   "metadata": {},
   "outputs": [
    {
     "data": {
      "text/plain": [
       "(212331, 15)"
      ]
     },
     "execution_count": 10,
     "metadata": {},
     "output_type": "execute_result"
    }
   ],
   "source": [
    "df.shape"
   ]
  },
  {
   "cell_type": "code",
   "execution_count": 11,
   "metadata": {},
   "outputs": [],
   "source": [
    "# Summary statistics before testing for duplicates"
   ]
  },
  {
   "cell_type": "code",
   "execution_count": 12,
   "metadata": {},
   "outputs": [
    {
     "data": {
      "text/html": [
       "<div>\n",
       "<style scoped>\n",
       "    .dataframe tbody tr th:only-of-type {\n",
       "        vertical-align: middle;\n",
       "    }\n",
       "\n",
       "    .dataframe tbody tr th {\n",
       "        vertical-align: top;\n",
       "    }\n",
       "\n",
       "    .dataframe thead th {\n",
       "        text-align: right;\n",
       "    }\n",
       "</style>\n",
       "<table border=\"1\" class=\"dataframe\">\n",
       "  <thead>\n",
       "    <tr style=\"text-align: right;\">\n",
       "      <th></th>\n",
       "      <th>Year</th>\n",
       "      <th>Total Tested</th>\n",
       "      <th>Mean Score</th>\n",
       "      <th>Number Scoring Below 65</th>\n",
       "      <th>Percent Scoring Below 65</th>\n",
       "      <th>Number Scoring 65 or Above</th>\n",
       "      <th>Percent Scoring 65 or Above</th>\n",
       "      <th>Number Scoring 80 or Above</th>\n",
       "      <th>Percent Scoring 80 or Above</th>\n",
       "      <th>Number Scoring CR</th>\n",
       "      <th>Percent Scoring CR</th>\n",
       "    </tr>\n",
       "  </thead>\n",
       "  <tbody>\n",
       "    <tr>\n",
       "      <th>count</th>\n",
       "      <td>212331.000000</td>\n",
       "      <td>212331.000000</td>\n",
       "      <td>137109.000000</td>\n",
       "      <td>137109.000000</td>\n",
       "      <td>137109.000000</td>\n",
       "      <td>137109.000000</td>\n",
       "      <td>137109.000000</td>\n",
       "      <td>137109.000000</td>\n",
       "      <td>137109.000000</td>\n",
       "      <td>69651.000000</td>\n",
       "      <td>69651.000000</td>\n",
       "    </tr>\n",
       "    <tr>\n",
       "      <th>mean</th>\n",
       "      <td>2015.956069</td>\n",
       "      <td>49.364200</td>\n",
       "      <td>65.998967</td>\n",
       "      <td>25.140297</td>\n",
       "      <td>41.933632</td>\n",
       "      <td>46.443516</td>\n",
       "      <td>58.067855</td>\n",
       "      <td>20.506655</td>\n",
       "      <td>22.692027</td>\n",
       "      <td>29.959340</td>\n",
       "      <td>36.213730</td>\n",
       "    </tr>\n",
       "    <tr>\n",
       "      <th>std</th>\n",
       "      <td>0.799726</td>\n",
       "      <td>93.023576</td>\n",
       "      <td>11.288883</td>\n",
       "      <td>37.155199</td>\n",
       "      <td>28.405737</td>\n",
       "      <td>85.187123</td>\n",
       "      <td>28.405517</td>\n",
       "      <td>56.301578</td>\n",
       "      <td>26.160987</td>\n",
       "      <td>68.306798</td>\n",
       "      <td>31.092605</td>\n",
       "    </tr>\n",
       "    <tr>\n",
       "      <th>min</th>\n",
       "      <td>2015.000000</td>\n",
       "      <td>1.000000</td>\n",
       "      <td>15.000000</td>\n",
       "      <td>0.000000</td>\n",
       "      <td>0.000000</td>\n",
       "      <td>0.000000</td>\n",
       "      <td>0.000000</td>\n",
       "      <td>0.000000</td>\n",
       "      <td>0.000000</td>\n",
       "      <td>0.000000</td>\n",
       "      <td>0.000000</td>\n",
       "    </tr>\n",
       "    <tr>\n",
       "      <th>25%</th>\n",
       "      <td>2015.000000</td>\n",
       "      <td>5.000000</td>\n",
       "      <td>58.300000</td>\n",
       "      <td>5.000000</td>\n",
       "      <td>17.500000</td>\n",
       "      <td>8.000000</td>\n",
       "      <td>36.000000</td>\n",
       "      <td>1.000000</td>\n",
       "      <td>2.200000</td>\n",
       "      <td>2.000000</td>\n",
       "      <td>8.800000</td>\n",
       "    </tr>\n",
       "    <tr>\n",
       "      <th>50%</th>\n",
       "      <td>2016.000000</td>\n",
       "      <td>20.000000</td>\n",
       "      <td>65.400000</td>\n",
       "      <td>13.000000</td>\n",
       "      <td>40.200000</td>\n",
       "      <td>21.000000</td>\n",
       "      <td>59.800000</td>\n",
       "      <td>5.000000</td>\n",
       "      <td>12.500000</td>\n",
       "      <td>9.000000</td>\n",
       "      <td>29.000000</td>\n",
       "    </tr>\n",
       "    <tr>\n",
       "      <th>75%</th>\n",
       "      <td>2017.000000</td>\n",
       "      <td>57.000000</td>\n",
       "      <td>73.400000</td>\n",
       "      <td>31.000000</td>\n",
       "      <td>64.000000</td>\n",
       "      <td>52.000000</td>\n",
       "      <td>82.500000</td>\n",
       "      <td>18.000000</td>\n",
       "      <td>34.500000</td>\n",
       "      <td>31.000000</td>\n",
       "      <td>58.800000</td>\n",
       "    </tr>\n",
       "    <tr>\n",
       "      <th>max</th>\n",
       "      <td>2017.000000</td>\n",
       "      <td>1729.000000</td>\n",
       "      <td>98.700000</td>\n",
       "      <td>697.000000</td>\n",
       "      <td>100.000000</td>\n",
       "      <td>1607.000000</td>\n",
       "      <td>100.000000</td>\n",
       "      <td>1365.000000</td>\n",
       "      <td>100.000000</td>\n",
       "      <td>1465.000000</td>\n",
       "      <td>100.000000</td>\n",
       "    </tr>\n",
       "  </tbody>\n",
       "</table>\n",
       "</div>"
      ],
      "text/plain": [
       "                Year   Total Tested     Mean Score  Number Scoring Below 65  \\\n",
       "count  212331.000000  212331.000000  137109.000000            137109.000000   \n",
       "mean     2015.956069      49.364200      65.998967                25.140297   \n",
       "std         0.799726      93.023576      11.288883                37.155199   \n",
       "min      2015.000000       1.000000      15.000000                 0.000000   \n",
       "25%      2015.000000       5.000000      58.300000                 5.000000   \n",
       "50%      2016.000000      20.000000      65.400000                13.000000   \n",
       "75%      2017.000000      57.000000      73.400000                31.000000   \n",
       "max      2017.000000    1729.000000      98.700000               697.000000   \n",
       "\n",
       "       Percent Scoring Below 65  Number Scoring 65 or Above  \\\n",
       "count             137109.000000               137109.000000   \n",
       "mean                  41.933632                   46.443516   \n",
       "std                   28.405737                   85.187123   \n",
       "min                    0.000000                    0.000000   \n",
       "25%                   17.500000                    8.000000   \n",
       "50%                   40.200000                   21.000000   \n",
       "75%                   64.000000                   52.000000   \n",
       "max                  100.000000                 1607.000000   \n",
       "\n",
       "       Percent Scoring 65 or Above  Number Scoring 80 or Above  \\\n",
       "count                137109.000000               137109.000000   \n",
       "mean                     58.067855                   20.506655   \n",
       "std                      28.405517                   56.301578   \n",
       "min                       0.000000                    0.000000   \n",
       "25%                      36.000000                    1.000000   \n",
       "50%                      59.800000                    5.000000   \n",
       "75%                      82.500000                   18.000000   \n",
       "max                     100.000000                 1365.000000   \n",
       "\n",
       "       Percent Scoring 80 or Above  Number Scoring CR  Percent Scoring CR  \n",
       "count                137109.000000       69651.000000        69651.000000  \n",
       "mean                     22.692027          29.959340           36.213730  \n",
       "std                      26.160987          68.306798           31.092605  \n",
       "min                       0.000000           0.000000            0.000000  \n",
       "25%                       2.200000           2.000000            8.800000  \n",
       "50%                      12.500000           9.000000           29.000000  \n",
       "75%                      34.500000          31.000000           58.800000  \n",
       "max                     100.000000        1465.000000          100.000000  "
      ]
     },
     "execution_count": 12,
     "metadata": {},
     "output_type": "execute_result"
    }
   ],
   "source": [
    "df.describe()"
   ]
  },
  {
   "cell_type": "code",
   "execution_count": 13,
   "metadata": {},
   "outputs": [],
   "source": [
    "# Determine the number of duplicate rows"
   ]
  },
  {
   "cell_type": "code",
   "execution_count": 14,
   "metadata": {},
   "outputs": [
    {
     "name": "stdout",
     "output_type": "stream",
     "text": [
      "number of duplicate rows:  (23819, 15)\n"
     ]
    }
   ],
   "source": [
    "duplicate_rows_df = df[df.duplicated()]\n",
    "print(\"number of duplicate rows: \",duplicate_rows_df.shape)"
   ]
  },
  {
   "cell_type": "code",
   "execution_count": 15,
   "metadata": {},
   "outputs": [],
   "source": [
    "# Remove duplicate rows"
   ]
  },
  {
   "cell_type": "code",
   "execution_count": 16,
   "metadata": {},
   "outputs": [],
   "source": [
    "df = df.drop_duplicates()"
   ]
  },
  {
   "cell_type": "code",
   "execution_count": 17,
   "metadata": {},
   "outputs": [],
   "source": [
    "# Count after dropping duplicates"
   ]
  },
  {
   "cell_type": "code",
   "execution_count": 18,
   "metadata": {},
   "outputs": [
    {
     "data": {
      "text/plain": [
       "School DBN                     188512\n",
       "School Name                    188512\n",
       "School Level                   188512\n",
       "Regents Exam                   188502\n",
       "Year                           188512\n",
       "Total Tested                   188512\n",
       "Mean Score                     133531\n",
       "Number Scoring Below 65        133531\n",
       "Percent Scoring Below 65       133531\n",
       "Number Scoring 65 or Above     133531\n",
       "Percent Scoring 65 or Above    133531\n",
       "Number Scoring 80 or Above     133531\n",
       "Percent Scoring 80 or Above    133531\n",
       "Number Scoring CR               67610\n",
       "Percent Scoring CR              67610\n",
       "dtype: int64"
      ]
     },
     "execution_count": 18,
     "metadata": {},
     "output_type": "execute_result"
    }
   ],
   "source": [
    "df.count()"
   ]
  },
  {
   "cell_type": "code",
   "execution_count": 19,
   "metadata": {},
   "outputs": [],
   "source": [
    "# Identify null values from the dataset, then remove them"
   ]
  },
  {
   "cell_type": "code",
   "execution_count": 20,
   "metadata": {},
   "outputs": [
    {
     "name": "stdout",
     "output_type": "stream",
     "text": [
      "School DBN                          0\n",
      "School Name                         0\n",
      "School Level                        0\n",
      "Regents Exam                       10\n",
      "Year                                0\n",
      "Total Tested                        0\n",
      "Mean Score                      54981\n",
      "Number Scoring Below 65         54981\n",
      "Percent Scoring Below 65        54981\n",
      "Number Scoring 65 or Above      54981\n",
      "Percent Scoring 65 or Above     54981\n",
      "Number Scoring 80 or Above      54981\n",
      "Percent Scoring 80 or Above     54981\n",
      "Number Scoring CR              120902\n",
      "Percent Scoring CR             120902\n",
      "dtype: int64\n"
     ]
    }
   ],
   "source": [
    "print(df.isnull().sum())"
   ]
  },
  {
   "cell_type": "code",
   "execution_count": 21,
   "metadata": {},
   "outputs": [],
   "source": [
    "df = df.dropna()"
   ]
  },
  {
   "cell_type": "code",
   "execution_count": 22,
   "metadata": {},
   "outputs": [
    {
     "name": "stdout",
     "output_type": "stream",
     "text": [
      "School DBN                     0\n",
      "School Name                    0\n",
      "School Level                   0\n",
      "Regents Exam                   0\n",
      "Year                           0\n",
      "Total Tested                   0\n",
      "Mean Score                     0\n",
      "Number Scoring Below 65        0\n",
      "Percent Scoring Below 65       0\n",
      "Number Scoring 65 or Above     0\n",
      "Percent Scoring 65 or Above    0\n",
      "Number Scoring 80 or Above     0\n",
      "Percent Scoring 80 or Above    0\n",
      "Number Scoring CR              0\n",
      "Percent Scoring CR             0\n",
      "dtype: int64\n"
     ]
    }
   ],
   "source": [
    "print(df.isnull().sum())"
   ]
  },
  {
   "cell_type": "code",
   "execution_count": 23,
   "metadata": {},
   "outputs": [],
   "source": [
    "# Unique values"
   ]
  },
  {
   "cell_type": "code",
   "execution_count": 24,
   "metadata": {},
   "outputs": [
    {
     "data": {
      "text/plain": [
       "School DBN                     941\n",
       "School Name                    935\n",
       "School Level                     5\n",
       "Regents Exam                     8\n",
       "Year                             3\n",
       "Total Tested                   952\n",
       "Mean Score                     725\n",
       "Number Scoring Below 65        406\n",
       "Percent Scoring Below 65       990\n",
       "Number Scoring 65 or Above     802\n",
       "Percent Scoring 65 or Above    990\n",
       "Number Scoring 80 or Above     586\n",
       "Percent Scoring 80 or Above    996\n",
       "Number Scoring CR              706\n",
       "Percent Scoring CR             998\n",
       "dtype: int64"
      ]
     },
     "execution_count": 24,
     "metadata": {},
     "output_type": "execute_result"
    }
   ],
   "source": [
    "df.nunique()"
   ]
  },
  {
   "cell_type": "code",
   "execution_count": 25,
   "metadata": {},
   "outputs": [],
   "source": [
    "# Summary statistics after dropping duplicates and null values"
   ]
  },
  {
   "cell_type": "code",
   "execution_count": 26,
   "metadata": {},
   "outputs": [
    {
     "data": {
      "text/html": [
       "<div>\n",
       "<style scoped>\n",
       "    .dataframe tbody tr th:only-of-type {\n",
       "        vertical-align: middle;\n",
       "    }\n",
       "\n",
       "    .dataframe tbody tr th {\n",
       "        vertical-align: top;\n",
       "    }\n",
       "\n",
       "    .dataframe thead th {\n",
       "        text-align: right;\n",
       "    }\n",
       "</style>\n",
       "<table border=\"1\" class=\"dataframe\">\n",
       "  <thead>\n",
       "    <tr style=\"text-align: right;\">\n",
       "      <th></th>\n",
       "      <th>Year</th>\n",
       "      <th>Total Tested</th>\n",
       "      <th>Mean Score</th>\n",
       "      <th>Number Scoring Below 65</th>\n",
       "      <th>Percent Scoring Below 65</th>\n",
       "      <th>Number Scoring 65 or Above</th>\n",
       "      <th>Percent Scoring 65 or Above</th>\n",
       "      <th>Number Scoring 80 or Above</th>\n",
       "      <th>Percent Scoring 80 or Above</th>\n",
       "      <th>Number Scoring CR</th>\n",
       "      <th>Percent Scoring CR</th>\n",
       "    </tr>\n",
       "  </thead>\n",
       "  <tbody>\n",
       "    <tr>\n",
       "      <th>count</th>\n",
       "      <td>67602.000000</td>\n",
       "      <td>67602.000000</td>\n",
       "      <td>67602.000000</td>\n",
       "      <td>67602.000000</td>\n",
       "      <td>67602.000000</td>\n",
       "      <td>67602.000000</td>\n",
       "      <td>67602.000000</td>\n",
       "      <td>67602.000000</td>\n",
       "      <td>67602.000000</td>\n",
       "      <td>67602.000000</td>\n",
       "      <td>67602.000000</td>\n",
       "    </tr>\n",
       "    <tr>\n",
       "      <th>mean</th>\n",
       "      <td>2015.898006</td>\n",
       "      <td>69.494601</td>\n",
       "      <td>65.033211</td>\n",
       "      <td>24.962368</td>\n",
       "      <td>43.146803</td>\n",
       "      <td>44.532233</td>\n",
       "      <td>56.854735</td>\n",
       "      <td>17.854279</td>\n",
       "      <td>20.096305</td>\n",
       "      <td>30.360256</td>\n",
       "      <td>36.128675</td>\n",
       "    </tr>\n",
       "    <tr>\n",
       "      <th>std</th>\n",
       "      <td>0.799492</td>\n",
       "      <td>106.637434</td>\n",
       "      <td>11.229314</td>\n",
       "      <td>38.038172</td>\n",
       "      <td>29.350178</td>\n",
       "      <td>83.889913</td>\n",
       "      <td>29.349966</td>\n",
       "      <td>53.002063</td>\n",
       "      <td>25.575245</td>\n",
       "      <td>69.113377</td>\n",
       "      <td>30.907601</td>\n",
       "    </tr>\n",
       "    <tr>\n",
       "      <th>min</th>\n",
       "      <td>2015.000000</td>\n",
       "      <td>6.000000</td>\n",
       "      <td>15.000000</td>\n",
       "      <td>0.000000</td>\n",
       "      <td>0.000000</td>\n",
       "      <td>0.000000</td>\n",
       "      <td>0.000000</td>\n",
       "      <td>0.000000</td>\n",
       "      <td>0.000000</td>\n",
       "      <td>0.000000</td>\n",
       "      <td>0.000000</td>\n",
       "    </tr>\n",
       "    <tr>\n",
       "      <th>25%</th>\n",
       "      <td>2015.000000</td>\n",
       "      <td>17.000000</td>\n",
       "      <td>57.500000</td>\n",
       "      <td>5.000000</td>\n",
       "      <td>17.900000</td>\n",
       "      <td>7.000000</td>\n",
       "      <td>33.300000</td>\n",
       "      <td>0.000000</td>\n",
       "      <td>0.000000</td>\n",
       "      <td>2.000000</td>\n",
       "      <td>9.100000</td>\n",
       "    </tr>\n",
       "    <tr>\n",
       "      <th>50%</th>\n",
       "      <td>2016.000000</td>\n",
       "      <td>37.000000</td>\n",
       "      <td>64.700000</td>\n",
       "      <td>12.000000</td>\n",
       "      <td>41.000000</td>\n",
       "      <td>19.000000</td>\n",
       "      <td>59.000000</td>\n",
       "      <td>3.000000</td>\n",
       "      <td>9.100000</td>\n",
       "      <td>9.000000</td>\n",
       "      <td>29.000000</td>\n",
       "    </tr>\n",
       "    <tr>\n",
       "      <th>75%</th>\n",
       "      <td>2017.000000</td>\n",
       "      <td>79.000000</td>\n",
       "      <td>72.400000</td>\n",
       "      <td>30.000000</td>\n",
       "      <td>66.700000</td>\n",
       "      <td>50.000000</td>\n",
       "      <td>82.100000</td>\n",
       "      <td>14.000000</td>\n",
       "      <td>30.300000</td>\n",
       "      <td>31.000000</td>\n",
       "      <td>58.400000</td>\n",
       "    </tr>\n",
       "    <tr>\n",
       "      <th>max</th>\n",
       "      <td>2017.000000</td>\n",
       "      <td>1554.000000</td>\n",
       "      <td>98.300000</td>\n",
       "      <td>697.000000</td>\n",
       "      <td>100.000000</td>\n",
       "      <td>1497.000000</td>\n",
       "      <td>100.000000</td>\n",
       "      <td>1318.000000</td>\n",
       "      <td>100.000000</td>\n",
       "      <td>1465.000000</td>\n",
       "      <td>100.000000</td>\n",
       "    </tr>\n",
       "  </tbody>\n",
       "</table>\n",
       "</div>"
      ],
      "text/plain": [
       "               Year  Total Tested    Mean Score  Number Scoring Below 65  \\\n",
       "count  67602.000000  67602.000000  67602.000000             67602.000000   \n",
       "mean    2015.898006     69.494601     65.033211                24.962368   \n",
       "std        0.799492    106.637434     11.229314                38.038172   \n",
       "min     2015.000000      6.000000     15.000000                 0.000000   \n",
       "25%     2015.000000     17.000000     57.500000                 5.000000   \n",
       "50%     2016.000000     37.000000     64.700000                12.000000   \n",
       "75%     2017.000000     79.000000     72.400000                30.000000   \n",
       "max     2017.000000   1554.000000     98.300000               697.000000   \n",
       "\n",
       "       Percent Scoring Below 65  Number Scoring 65 or Above  \\\n",
       "count              67602.000000                67602.000000   \n",
       "mean                  43.146803                   44.532233   \n",
       "std                   29.350178                   83.889913   \n",
       "min                    0.000000                    0.000000   \n",
       "25%                   17.900000                    7.000000   \n",
       "50%                   41.000000                   19.000000   \n",
       "75%                   66.700000                   50.000000   \n",
       "max                  100.000000                 1497.000000   \n",
       "\n",
       "       Percent Scoring 65 or Above  Number Scoring 80 or Above  \\\n",
       "count                 67602.000000                67602.000000   \n",
       "mean                     56.854735                   17.854279   \n",
       "std                      29.349966                   53.002063   \n",
       "min                       0.000000                    0.000000   \n",
       "25%                      33.300000                    0.000000   \n",
       "50%                      59.000000                    3.000000   \n",
       "75%                      82.100000                   14.000000   \n",
       "max                     100.000000                 1318.000000   \n",
       "\n",
       "       Percent Scoring 80 or Above  Number Scoring CR  Percent Scoring CR  \n",
       "count                 67602.000000       67602.000000        67602.000000  \n",
       "mean                     20.096305          30.360256           36.128675  \n",
       "std                      25.575245          69.113377           30.907601  \n",
       "min                       0.000000           0.000000            0.000000  \n",
       "25%                       0.000000           2.000000            9.100000  \n",
       "50%                       9.100000           9.000000           29.000000  \n",
       "75%                      30.300000          31.000000           58.400000  \n",
       "max                     100.000000        1465.000000          100.000000  "
      ]
     },
     "execution_count": 26,
     "metadata": {},
     "output_type": "execute_result"
    }
   ],
   "source": [
    "df.describe()"
   ]
  },
  {
   "cell_type": "code",
   "execution_count": 27,
   "metadata": {},
   "outputs": [
    {
     "data": {
      "text/plain": [
       "2015    25404\n",
       "2016    23689\n",
       "2017    18509\n",
       "Name: Year, dtype: int64"
      ]
     },
     "execution_count": 27,
     "metadata": {},
     "output_type": "execute_result"
    }
   ],
   "source": [
    "df['Year'].value_counts()"
   ]
  },
  {
   "cell_type": "code",
   "execution_count": 28,
   "metadata": {},
   "outputs": [
    {
     "data": {
      "text/plain": [
       "High school                        50437\n",
       "Secondary School                    9452\n",
       "Junior High-Intermediate-Middle     3657\n",
       "K-12 all grades                     2627\n",
       "K-8                                 1429\n",
       "Name: School Level, dtype: int64"
      ]
     },
     "execution_count": 28,
     "metadata": {},
     "output_type": "execute_result"
    }
   ],
   "source": [
    "df['School Level'].value_counts()"
   ]
  },
  {
   "cell_type": "code",
   "execution_count": 29,
   "metadata": {},
   "outputs": [
    {
     "data": {
      "text/plain": [
       "Common Core Algebra      18948\n",
       "Common Core English      13169\n",
       "Common Core Geometry      9326\n",
       "English                   6682\n",
       "Integrated Algebra        6178\n",
       "Algebra2/Trigonometry     5013\n",
       "Geometry                  4176\n",
       "Common Core Algebra2      4110\n",
       "Name: Regents Exam, dtype: int64"
      ]
     },
     "execution_count": 29,
     "metadata": {},
     "output_type": "execute_result"
    }
   ],
   "source": [
    "df['Regents Exam'].value_counts()"
   ]
  },
  {
   "cell_type": "code",
   "execution_count": 30,
   "metadata": {},
   "outputs": [],
   "source": [
    "# Select columns"
   ]
  },
  {
   "cell_type": "code",
   "execution_count": 31,
   "metadata": {},
   "outputs": [],
   "source": [
    "df2=df[['School DBN', 'School Name', 'School Level', 'Regents Exam', 'Year', 'Total Tested', 'Mean Score','Number Scoring Below 65','Number Scoring 65 or Above','Number Scoring 80 or Above']]"
   ]
  },
  {
   "cell_type": "code",
   "execution_count": 32,
   "metadata": {},
   "outputs": [
    {
     "data": {
      "text/html": [
       "<div>\n",
       "<style scoped>\n",
       "    .dataframe tbody tr th:only-of-type {\n",
       "        vertical-align: middle;\n",
       "    }\n",
       "\n",
       "    .dataframe tbody tr th {\n",
       "        vertical-align: top;\n",
       "    }\n",
       "\n",
       "    .dataframe thead th {\n",
       "        text-align: right;\n",
       "    }\n",
       "</style>\n",
       "<table border=\"1\" class=\"dataframe\">\n",
       "  <thead>\n",
       "    <tr style=\"text-align: right;\">\n",
       "      <th></th>\n",
       "      <th>School DBN</th>\n",
       "      <th>School Name</th>\n",
       "      <th>School Level</th>\n",
       "      <th>Regents Exam</th>\n",
       "      <th>Year</th>\n",
       "      <th>Total Tested</th>\n",
       "      <th>Mean Score</th>\n",
       "      <th>Number Scoring Below 65</th>\n",
       "      <th>Number Scoring 65 or Above</th>\n",
       "      <th>Number Scoring 80 or Above</th>\n",
       "    </tr>\n",
       "  </thead>\n",
       "  <tbody>\n",
       "    <tr>\n",
       "      <th>8</th>\n",
       "      <td>01M184</td>\n",
       "      <td>P.S. 184m Shuang Wen</td>\n",
       "      <td>K-8</td>\n",
       "      <td>Common Core Algebra</td>\n",
       "      <td>2015</td>\n",
       "      <td>49</td>\n",
       "      <td>78.4</td>\n",
       "      <td>1.0</td>\n",
       "      <td>48.0</td>\n",
       "      <td>23.0</td>\n",
       "    </tr>\n",
       "    <tr>\n",
       "      <th>9</th>\n",
       "      <td>01M184</td>\n",
       "      <td>P.S. 184m Shuang Wen</td>\n",
       "      <td>K-8</td>\n",
       "      <td>Common Core Algebra</td>\n",
       "      <td>2016</td>\n",
       "      <td>51</td>\n",
       "      <td>79.0</td>\n",
       "      <td>9.0</td>\n",
       "      <td>42.0</td>\n",
       "      <td>33.0</td>\n",
       "    </tr>\n",
       "  </tbody>\n",
       "</table>\n",
       "</div>"
      ],
      "text/plain": [
       "  School DBN           School Name School Level         Regents Exam  Year  \\\n",
       "8     01M184  P.S. 184m Shuang Wen          K-8  Common Core Algebra  2015   \n",
       "9     01M184  P.S. 184m Shuang Wen          K-8  Common Core Algebra  2016   \n",
       "\n",
       "   Total Tested  Mean Score  Number Scoring Below 65  \\\n",
       "8            49        78.4                      1.0   \n",
       "9            51        79.0                      9.0   \n",
       "\n",
       "   Number Scoring 65 or Above  Number Scoring 80 or Above  \n",
       "8                        48.0                        23.0  \n",
       "9                        42.0                        33.0  "
      ]
     },
     "execution_count": 32,
     "metadata": {},
     "output_type": "execute_result"
    }
   ],
   "source": [
    "df2.head(2)"
   ]
  },
  {
   "cell_type": "code",
   "execution_count": 33,
   "metadata": {},
   "outputs": [
    {
     "data": {
      "text/plain": [
       "<matplotlib.axes._subplots.AxesSubplot at 0xa8d09f0>"
      ]
     },
     "execution_count": 33,
     "metadata": {},
     "output_type": "execute_result"
    },
    {
     "data": {
      "image/png": "[encoded data removed]",
      "text/plain": [
       "<Figure size 432x288 with 1 Axes>"
      ]
     },
     "metadata": {},
     "output_type": "display_data"
    }
   ],
   "source": [
    "sns.scatterplot(x='Mean Score',y='Total Tested',data=df)"
   ]
  },
  {
   "cell_type": "markdown",
   "metadata": {},
   "source": [
    "# Bronx records"
   ]
  },
  {
   "cell_type": "code",
   "execution_count": 34,
   "metadata": {},
   "outputs": [],
   "source": [
    "dfb = df2[df2['School DBN'].str.contains('X')]"
   ]
  },
  {
   "cell_type": "code",
   "execution_count": 35,
   "metadata": {
    "scrolled": true
   },
   "outputs": [
    {
     "data": {
      "text/html": [
       "<div>\n",
       "<style scoped>\n",
       "    .dataframe tbody tr th:only-of-type {\n",
       "        vertical-align: middle;\n",
       "    }\n",
       "\n",
       "    .dataframe tbody tr th {\n",
       "        vertical-align: top;\n",
       "    }\n",
       "\n",
       "    .dataframe thead th {\n",
       "        text-align: right;\n",
       "    }\n",
       "</style>\n",
       "<table border=\"1\" class=\"dataframe\">\n",
       "  <thead>\n",
       "    <tr style=\"text-align: right;\">\n",
       "      <th></th>\n",
       "      <th>School DBN</th>\n",
       "      <th>School Name</th>\n",
       "      <th>School Level</th>\n",
       "      <th>Regents Exam</th>\n",
       "      <th>Year</th>\n",
       "      <th>Total Tested</th>\n",
       "      <th>Mean Score</th>\n",
       "      <th>Number Scoring Below 65</th>\n",
       "      <th>Number Scoring 65 or Above</th>\n",
       "      <th>Number Scoring 80 or Above</th>\n",
       "    </tr>\n",
       "  </thead>\n",
       "  <tbody>\n",
       "    <tr>\n",
       "      <th>3923</th>\n",
       "      <td>07X029</td>\n",
       "      <td>P.S./M.S. 029 Melrose School</td>\n",
       "      <td>K-8</td>\n",
       "      <td>Common Core Algebra</td>\n",
       "      <td>2015</td>\n",
       "      <td>29</td>\n",
       "      <td>65.0</td>\n",
       "      <td>12.0</td>\n",
       "      <td>17.0</td>\n",
       "      <td>0.0</td>\n",
       "    </tr>\n",
       "    <tr>\n",
       "      <th>3924</th>\n",
       "      <td>07X029</td>\n",
       "      <td>P.S./M.S. 029 Melrose School</td>\n",
       "      <td>K-8</td>\n",
       "      <td>Common Core Algebra</td>\n",
       "      <td>2016</td>\n",
       "      <td>29</td>\n",
       "      <td>66.5</td>\n",
       "      <td>11.0</td>\n",
       "      <td>18.0</td>\n",
       "      <td>2.0</td>\n",
       "    </tr>\n",
       "  </tbody>\n",
       "</table>\n",
       "</div>"
      ],
      "text/plain": [
       "     School DBN                   School Name School Level  \\\n",
       "3923     07X029  P.S./M.S. 029 Melrose School          K-8   \n",
       "3924     07X029  P.S./M.S. 029 Melrose School          K-8   \n",
       "\n",
       "             Regents Exam  Year  Total Tested  Mean Score  \\\n",
       "3923  Common Core Algebra  2015            29        65.0   \n",
       "3924  Common Core Algebra  2016            29        66.5   \n",
       "\n",
       "      Number Scoring Below 65  Number Scoring 65 or Above  \\\n",
       "3923                     12.0                        17.0   \n",
       "3924                     11.0                        18.0   \n",
       "\n",
       "      Number Scoring 80 or Above  \n",
       "3923                         0.0  \n",
       "3924                         2.0  "
      ]
     },
     "execution_count": 35,
     "metadata": {},
     "output_type": "execute_result"
    }
   ],
   "source": [
    "dfb.head(2)"
   ]
  },
  {
   "cell_type": "code",
   "execution_count": 36,
   "metadata": {
    "scrolled": true
   },
   "outputs": [
    {
     "data": {
      "text/html": [
       "<div>\n",
       "<style scoped>\n",
       "    .dataframe tbody tr th:only-of-type {\n",
       "        vertical-align: middle;\n",
       "    }\n",
       "\n",
       "    .dataframe tbody tr th {\n",
       "        vertical-align: top;\n",
       "    }\n",
       "\n",
       "    .dataframe thead th {\n",
       "        text-align: right;\n",
       "    }\n",
       "</style>\n",
       "<table border=\"1\" class=\"dataframe\">\n",
       "  <thead>\n",
       "    <tr style=\"text-align: right;\">\n",
       "      <th></th>\n",
       "      <th>School DBN</th>\n",
       "      <th>School Name</th>\n",
       "      <th>School Level</th>\n",
       "      <th>Regents Exam</th>\n",
       "      <th>Year</th>\n",
       "      <th>Total Tested</th>\n",
       "      <th>Mean Score</th>\n",
       "      <th>Number Scoring Below 65</th>\n",
       "      <th>Number Scoring 65 or Above</th>\n",
       "      <th>Number Scoring 80 or Above</th>\n",
       "    </tr>\n",
       "  </thead>\n",
       "  <tbody>\n",
       "    <tr>\n",
       "      <th>212322</th>\n",
       "      <td>84X717</td>\n",
       "      <td>Icahn Charter School</td>\n",
       "      <td>K-8</td>\n",
       "      <td>Common Core Algebra</td>\n",
       "      <td>2017</td>\n",
       "      <td>6</td>\n",
       "      <td>87.0</td>\n",
       "      <td>0.0</td>\n",
       "      <td>6.0</td>\n",
       "      <td>6.0</td>\n",
       "    </tr>\n",
       "    <tr>\n",
       "      <th>212323</th>\n",
       "      <td>84X717</td>\n",
       "      <td>Icahn Charter School</td>\n",
       "      <td>K-8</td>\n",
       "      <td>Common Core Algebra</td>\n",
       "      <td>2017</td>\n",
       "      <td>6</td>\n",
       "      <td>88.3</td>\n",
       "      <td>0.0</td>\n",
       "      <td>6.0</td>\n",
       "      <td>5.0</td>\n",
       "    </tr>\n",
       "  </tbody>\n",
       "</table>\n",
       "</div>"
      ],
      "text/plain": [
       "       School DBN           School Name School Level         Regents Exam  \\\n",
       "212322     84X717  Icahn Charter School          K-8  Common Core Algebra   \n",
       "212323     84X717  Icahn Charter School          K-8  Common Core Algebra   \n",
       "\n",
       "        Year  Total Tested  Mean Score  Number Scoring Below 65  \\\n",
       "212322  2017             6        87.0                      0.0   \n",
       "212323  2017             6        88.3                      0.0   \n",
       "\n",
       "        Number Scoring 65 or Above  Number Scoring 80 or Above  \n",
       "212322                         6.0                         6.0  \n",
       "212323                         6.0                         5.0  "
      ]
     },
     "execution_count": 36,
     "metadata": {},
     "output_type": "execute_result"
    }
   ],
   "source": [
    "dfb.tail(2)"
   ]
  },
  {
   "cell_type": "code",
   "execution_count": 37,
   "metadata": {},
   "outputs": [],
   "source": [
    "# drop School DBN column"
   ]
  },
  {
   "cell_type": "code",
   "execution_count": 38,
   "metadata": {},
   "outputs": [],
   "source": [
    "dfb = dfb.drop('School DBN',1)"
   ]
  },
  {
   "cell_type": "code",
   "execution_count": 39,
   "metadata": {},
   "outputs": [
    {
     "data": {
      "text/html": [
       "<div>\n",
       "<style scoped>\n",
       "    .dataframe tbody tr th:only-of-type {\n",
       "        vertical-align: middle;\n",
       "    }\n",
       "\n",
       "    .dataframe tbody tr th {\n",
       "        vertical-align: top;\n",
       "    }\n",
       "\n",
       "    .dataframe thead th {\n",
       "        text-align: right;\n",
       "    }\n",
       "</style>\n",
       "<table border=\"1\" class=\"dataframe\">\n",
       "  <thead>\n",
       "    <tr style=\"text-align: right;\">\n",
       "      <th></th>\n",
       "      <th>School Name</th>\n",
       "      <th>School Level</th>\n",
       "      <th>Regents Exam</th>\n",
       "      <th>Year</th>\n",
       "      <th>Total Tested</th>\n",
       "      <th>Mean Score</th>\n",
       "      <th>Number Scoring Below 65</th>\n",
       "      <th>Number Scoring 65 or Above</th>\n",
       "      <th>Number Scoring 80 or Above</th>\n",
       "    </tr>\n",
       "  </thead>\n",
       "  <tbody>\n",
       "    <tr>\n",
       "      <th>3923</th>\n",
       "      <td>P.S./M.S. 029 Melrose School</td>\n",
       "      <td>K-8</td>\n",
       "      <td>Common Core Algebra</td>\n",
       "      <td>2015</td>\n",
       "      <td>29</td>\n",
       "      <td>65.0</td>\n",
       "      <td>12.0</td>\n",
       "      <td>17.0</td>\n",
       "      <td>0.0</td>\n",
       "    </tr>\n",
       "    <tr>\n",
       "      <th>3924</th>\n",
       "      <td>P.S./M.S. 029 Melrose School</td>\n",
       "      <td>K-8</td>\n",
       "      <td>Common Core Algebra</td>\n",
       "      <td>2016</td>\n",
       "      <td>29</td>\n",
       "      <td>66.5</td>\n",
       "      <td>11.0</td>\n",
       "      <td>18.0</td>\n",
       "      <td>2.0</td>\n",
       "    </tr>\n",
       "  </tbody>\n",
       "</table>\n",
       "</div>"
      ],
      "text/plain": [
       "                       School Name School Level         Regents Exam  Year  \\\n",
       "3923  P.S./M.S. 029 Melrose School          K-8  Common Core Algebra  2015   \n",
       "3924  P.S./M.S. 029 Melrose School          K-8  Common Core Algebra  2016   \n",
       "\n",
       "      Total Tested  Mean Score  Number Scoring Below 65  \\\n",
       "3923            29        65.0                     12.0   \n",
       "3924            29        66.5                     11.0   \n",
       "\n",
       "      Number Scoring 65 or Above  Number Scoring 80 or Above  \n",
       "3923                        17.0                         0.0  \n",
       "3924                        18.0                         2.0  "
      ]
     },
     "execution_count": 39,
     "metadata": {},
     "output_type": "execute_result"
    }
   ],
   "source": [
    "dfb.head(2)"
   ]
  },
  {
   "cell_type": "code",
   "execution_count": 40,
   "metadata": {},
   "outputs": [
    {
     "data": {
      "text/html": [
       "<div>\n",
       "<style scoped>\n",
       "    .dataframe tbody tr th:only-of-type {\n",
       "        vertical-align: middle;\n",
       "    }\n",
       "\n",
       "    .dataframe tbody tr th {\n",
       "        vertical-align: top;\n",
       "    }\n",
       "\n",
       "    .dataframe thead th {\n",
       "        text-align: right;\n",
       "    }\n",
       "</style>\n",
       "<table border=\"1\" class=\"dataframe\">\n",
       "  <thead>\n",
       "    <tr style=\"text-align: right;\">\n",
       "      <th></th>\n",
       "      <th>Year</th>\n",
       "      <th>Total Tested</th>\n",
       "      <th>Mean Score</th>\n",
       "      <th>Number Scoring Below 65</th>\n",
       "      <th>Number Scoring 65 or Above</th>\n",
       "      <th>Number Scoring 80 or Above</th>\n",
       "    </tr>\n",
       "  </thead>\n",
       "  <tbody>\n",
       "    <tr>\n",
       "      <th>count</th>\n",
       "      <td>17211.000000</td>\n",
       "      <td>17211.00000</td>\n",
       "      <td>17211.000000</td>\n",
       "      <td>17211.000000</td>\n",
       "      <td>17211.000000</td>\n",
       "      <td>17211.000000</td>\n",
       "    </tr>\n",
       "    <tr>\n",
       "      <th>mean</th>\n",
       "      <td>2015.879554</td>\n",
       "      <td>48.98960</td>\n",
       "      <td>62.189547</td>\n",
       "      <td>21.606821</td>\n",
       "      <td>27.382778</td>\n",
       "      <td>8.945500</td>\n",
       "    </tr>\n",
       "    <tr>\n",
       "      <th>std</th>\n",
       "      <td>0.796102</td>\n",
       "      <td>57.30003</td>\n",
       "      <td>10.287001</td>\n",
       "      <td>24.756002</td>\n",
       "      <td>45.277722</td>\n",
       "      <td>33.525646</td>\n",
       "    </tr>\n",
       "    <tr>\n",
       "      <th>min</th>\n",
       "      <td>2015.000000</td>\n",
       "      <td>6.00000</td>\n",
       "      <td>16.100000</td>\n",
       "      <td>0.000000</td>\n",
       "      <td>0.000000</td>\n",
       "      <td>0.000000</td>\n",
       "    </tr>\n",
       "    <tr>\n",
       "      <th>25%</th>\n",
       "      <td>2015.000000</td>\n",
       "      <td>16.00000</td>\n",
       "      <td>55.500000</td>\n",
       "      <td>7.000000</td>\n",
       "      <td>5.000000</td>\n",
       "      <td>0.000000</td>\n",
       "    </tr>\n",
       "    <tr>\n",
       "      <th>50%</th>\n",
       "      <td>2016.000000</td>\n",
       "      <td>32.00000</td>\n",
       "      <td>62.000000</td>\n",
       "      <td>14.000000</td>\n",
       "      <td>14.000000</td>\n",
       "      <td>2.000000</td>\n",
       "    </tr>\n",
       "    <tr>\n",
       "      <th>75%</th>\n",
       "      <td>2017.000000</td>\n",
       "      <td>65.00000</td>\n",
       "      <td>68.800000</td>\n",
       "      <td>28.000000</td>\n",
       "      <td>36.000000</td>\n",
       "      <td>8.000000</td>\n",
       "    </tr>\n",
       "    <tr>\n",
       "      <th>max</th>\n",
       "      <td>2017.000000</td>\n",
       "      <td>834.00000</td>\n",
       "      <td>96.600000</td>\n",
       "      <td>496.000000</td>\n",
       "      <td>787.000000</td>\n",
       "      <td>774.000000</td>\n",
       "    </tr>\n",
       "  </tbody>\n",
       "</table>\n",
       "</div>"
      ],
      "text/plain": [
       "               Year  Total Tested    Mean Score  Number Scoring Below 65  \\\n",
       "count  17211.000000   17211.00000  17211.000000             17211.000000   \n",
       "mean    2015.879554      48.98960     62.189547                21.606821   \n",
       "std        0.796102      57.30003     10.287001                24.756002   \n",
       "min     2015.000000       6.00000     16.100000                 0.000000   \n",
       "25%     2015.000000      16.00000     55.500000                 7.000000   \n",
       "50%     2016.000000      32.00000     62.000000                14.000000   \n",
       "75%     2017.000000      65.00000     68.800000                28.000000   \n",
       "max     2017.000000     834.00000     96.600000               496.000000   \n",
       "\n",
       "       Number Scoring 65 or Above  Number Scoring 80 or Above  \n",
       "count                17211.000000                17211.000000  \n",
       "mean                    27.382778                    8.945500  \n",
       "std                     45.277722                   33.525646  \n",
       "min                      0.000000                    0.000000  \n",
       "25%                      5.000000                    0.000000  \n",
       "50%                     14.000000                    2.000000  \n",
       "75%                     36.000000                    8.000000  \n",
       "max                    787.000000                  774.000000  "
      ]
     },
     "execution_count": 40,
     "metadata": {},
     "output_type": "execute_result"
    }
   ],
   "source": [
    "dfb.describe()"
   ]
  },
  {
   "cell_type": "code",
   "execution_count": 41,
   "metadata": {},
   "outputs": [
    {
     "data": {
      "text/plain": [
       "School Name                   230\n",
       "School Level                    5\n",
       "Regents Exam                    8\n",
       "Year                            3\n",
       "Total Tested                  361\n",
       "Mean Score                    660\n",
       "Number Scoring Below 65       196\n",
       "Number Scoring 65 or Above    280\n",
       "Number Scoring 80 or Above    195\n",
       "dtype: int64"
      ]
     },
     "execution_count": 41,
     "metadata": {},
     "output_type": "execute_result"
    }
   ],
   "source": [
    "dfb.nunique()"
   ]
  },
  {
   "cell_type": "code",
   "execution_count": 42,
   "metadata": {},
   "outputs": [
    {
     "data": {
      "text/plain": [
       "2015    6615\n",
       "2016    6054\n",
       "2017    4542\n",
       "Name: Year, dtype: int64"
      ]
     },
     "execution_count": 42,
     "metadata": {},
     "output_type": "execute_result"
    }
   ],
   "source": [
    "dfb['Year'].value_counts()"
   ]
  },
  {
   "cell_type": "code",
   "execution_count": 43,
   "metadata": {},
   "outputs": [],
   "source": [
    "# There are scores available for only 8 of 14 possible Regents exams for schools at all school levels in the Bronx"
   ]
  },
  {
   "cell_type": "code",
   "execution_count": 44,
   "metadata": {},
   "outputs": [
    {
     "data": {
      "text/plain": [
       "Common Core Algebra      4656\n",
       "Common Core English      3533\n",
       "Common Core Geometry     2189\n",
       "English                  1910\n",
       "Integrated Algebra       1798\n",
       "Algebra2/Trigonometry    1144\n",
       "Geometry                 1056\n",
       "Common Core Algebra2      925\n",
       "Name: Regents Exam, dtype: int64"
      ]
     },
     "execution_count": 44,
     "metadata": {},
     "output_type": "execute_result"
    }
   ],
   "source": [
    "dfb['Regents Exam'].value_counts()"
   ]
  },
  {
   "cell_type": "code",
   "execution_count": 45,
   "metadata": {},
   "outputs": [
    {
     "data": {
      "text/plain": [
       "<matplotlib.axes._subplots.AxesSubplot at 0xa8d0bd0>"
      ]
     },
     "execution_count": 45,
     "metadata": {},
     "output_type": "execute_result"
    },
    {
     "data": {
      "image/png": "[encoded data removed]",
      "text/plain": [
       "<Figure size 432x288 with 1 Axes>"
      ]
     },
     "metadata": {},
     "output_type": "display_data"
    }
   ],
   "source": [
    "sns.scatterplot(x='Mean Score',y='Total Tested',data=dfb)"
   ]
  },
  {
   "cell_type": "markdown",
   "metadata": {},
   "source": [
    "# Specific school records"
   ]
  },
  {
   "cell_type": "code",
   "execution_count": 46,
   "metadata": {},
   "outputs": [],
   "source": [
    "dfs = df2[df2['School Name']== 'Kennedy Yabc']"
   ]
  },
  {
   "cell_type": "code",
   "execution_count": 47,
   "metadata": {},
   "outputs": [
    {
     "data": {
      "text/html": [
       "<div>\n",
       "<style scoped>\n",
       "    .dataframe tbody tr th:only-of-type {\n",
       "        vertical-align: middle;\n",
       "    }\n",
       "\n",
       "    .dataframe tbody tr th {\n",
       "        vertical-align: top;\n",
       "    }\n",
       "\n",
       "    .dataframe thead th {\n",
       "        text-align: right;\n",
       "    }\n",
       "</style>\n",
       "<table border=\"1\" class=\"dataframe\">\n",
       "  <thead>\n",
       "    <tr style=\"text-align: right;\">\n",
       "      <th></th>\n",
       "      <th>School DBN</th>\n",
       "      <th>School Name</th>\n",
       "      <th>School Level</th>\n",
       "      <th>Regents Exam</th>\n",
       "      <th>Year</th>\n",
       "      <th>Total Tested</th>\n",
       "      <th>Mean Score</th>\n",
       "      <th>Number Scoring Below 65</th>\n",
       "      <th>Number Scoring 65 or Above</th>\n",
       "      <th>Number Scoring 80 or Above</th>\n",
       "    </tr>\n",
       "  </thead>\n",
       "  <tbody>\n",
       "    <tr>\n",
       "      <th>5854</th>\n",
       "      <td>10X504</td>\n",
       "      <td>Kennedy Yabc</td>\n",
       "      <td>High school</td>\n",
       "      <td>Common Core Algebra</td>\n",
       "      <td>2016</td>\n",
       "      <td>7</td>\n",
       "      <td>55.7</td>\n",
       "      <td>6.0</td>\n",
       "      <td>1.0</td>\n",
       "      <td>0.0</td>\n",
       "    </tr>\n",
       "    <tr>\n",
       "      <th>6928</th>\n",
       "      <td>10X504</td>\n",
       "      <td>Kennedy Yabc</td>\n",
       "      <td>High school</td>\n",
       "      <td>Common Core Algebra</td>\n",
       "      <td>2017</td>\n",
       "      <td>19</td>\n",
       "      <td>54.9</td>\n",
       "      <td>15.0</td>\n",
       "      <td>4.0</td>\n",
       "      <td>0.0</td>\n",
       "    </tr>\n",
       "  </tbody>\n",
       "</table>\n",
       "</div>"
      ],
      "text/plain": [
       "     School DBN   School Name School Level         Regents Exam  Year  \\\n",
       "5854     10X504  Kennedy Yabc  High school  Common Core Algebra  2016   \n",
       "6928     10X504  Kennedy Yabc  High school  Common Core Algebra  2017   \n",
       "\n",
       "      Total Tested  Mean Score  Number Scoring Below 65  \\\n",
       "5854             7        55.7                      6.0   \n",
       "6928            19        54.9                     15.0   \n",
       "\n",
       "      Number Scoring 65 or Above  Number Scoring 80 or Above  \n",
       "5854                         1.0                         0.0  \n",
       "6928                         4.0                         0.0  "
      ]
     },
     "execution_count": 47,
     "metadata": {},
     "output_type": "execute_result"
    }
   ],
   "source": [
    "dfs.head(2)"
   ]
  },
  {
   "cell_type": "code",
   "execution_count": 48,
   "metadata": {},
   "outputs": [
    {
     "data": {
      "text/html": [
       "<div>\n",
       "<style scoped>\n",
       "    .dataframe tbody tr th:only-of-type {\n",
       "        vertical-align: middle;\n",
       "    }\n",
       "\n",
       "    .dataframe tbody tr th {\n",
       "        vertical-align: top;\n",
       "    }\n",
       "\n",
       "    .dataframe thead th {\n",
       "        text-align: right;\n",
       "    }\n",
       "</style>\n",
       "<table border=\"1\" class=\"dataframe\">\n",
       "  <thead>\n",
       "    <tr style=\"text-align: right;\">\n",
       "      <th></th>\n",
       "      <th>School DBN</th>\n",
       "      <th>School Name</th>\n",
       "      <th>School Level</th>\n",
       "      <th>Regents Exam</th>\n",
       "      <th>Year</th>\n",
       "      <th>Total Tested</th>\n",
       "      <th>Mean Score</th>\n",
       "      <th>Number Scoring Below 65</th>\n",
       "      <th>Number Scoring 65 or Above</th>\n",
       "      <th>Number Scoring 80 or Above</th>\n",
       "    </tr>\n",
       "  </thead>\n",
       "  <tbody>\n",
       "    <tr>\n",
       "      <th>165756</th>\n",
       "      <td>10X504</td>\n",
       "      <td>Kennedy Yabc</td>\n",
       "      <td>High school</td>\n",
       "      <td>English</td>\n",
       "      <td>2016</td>\n",
       "      <td>7</td>\n",
       "      <td>42.7</td>\n",
       "      <td>7.0</td>\n",
       "      <td>0.0</td>\n",
       "      <td>0.0</td>\n",
       "    </tr>\n",
       "    <tr>\n",
       "      <th>165757</th>\n",
       "      <td>10X504</td>\n",
       "      <td>Kennedy Yabc</td>\n",
       "      <td>High school</td>\n",
       "      <td>English</td>\n",
       "      <td>2016</td>\n",
       "      <td>25</td>\n",
       "      <td>43.7</td>\n",
       "      <td>23.0</td>\n",
       "      <td>2.0</td>\n",
       "      <td>0.0</td>\n",
       "    </tr>\n",
       "  </tbody>\n",
       "</table>\n",
       "</div>"
      ],
      "text/plain": [
       "       School DBN   School Name School Level Regents Exam  Year  Total Tested  \\\n",
       "165756     10X504  Kennedy Yabc  High school      English  2016             7   \n",
       "165757     10X504  Kennedy Yabc  High school      English  2016            25   \n",
       "\n",
       "        Mean Score  Number Scoring Below 65  Number Scoring 65 or Above  \\\n",
       "165756        42.7                      7.0                         0.0   \n",
       "165757        43.7                     23.0                         2.0   \n",
       "\n",
       "        Number Scoring 80 or Above  \n",
       "165756                         0.0  \n",
       "165757                         0.0  "
      ]
     },
     "execution_count": 48,
     "metadata": {},
     "output_type": "execute_result"
    }
   ],
   "source": [
    "dfs.tail(2)"
   ]
  },
  {
   "cell_type": "code",
   "execution_count": 49,
   "metadata": {},
   "outputs": [],
   "source": [
    "# Drop unneeded columns"
   ]
  },
  {
   "cell_type": "code",
   "execution_count": 50,
   "metadata": {},
   "outputs": [
    {
     "data": {
      "text/plain": [
       "School DBN                    46\n",
       "School Name                   46\n",
       "School Level                  46\n",
       "Regents Exam                  46\n",
       "Year                          46\n",
       "Total Tested                  46\n",
       "Mean Score                    46\n",
       "Number Scoring Below 65       46\n",
       "Number Scoring 65 or Above    46\n",
       "Number Scoring 80 or Above    46\n",
       "dtype: int64"
      ]
     },
     "execution_count": 50,
     "metadata": {},
     "output_type": "execute_result"
    }
   ],
   "source": [
    "dfs.count()"
   ]
  },
  {
   "cell_type": "code",
   "execution_count": 51,
   "metadata": {},
   "outputs": [
    {
     "data": {
      "text/plain": [
       "Year                          2016.021739\n",
       "Total Tested                    18.847826\n",
       "Mean Score                      49.956522\n",
       "Number Scoring Below 65         14.673913\n",
       "Number Scoring 65 or Above       4.173913\n",
       "Number Scoring 80 or Above       0.304348\n",
       "dtype: float64"
      ]
     },
     "execution_count": 51,
     "metadata": {},
     "output_type": "execute_result"
    }
   ],
   "source": [
    "dfs.mean()"
   ]
  },
  {
   "cell_type": "code",
   "execution_count": 52,
   "metadata": {},
   "outputs": [
    {
     "data": {
      "text/plain": [
       "School DBN                                 10X504\n",
       "School Name                          Kennedy Yabc\n",
       "School Level                          High school\n",
       "Regents Exam                  Common Core Algebra\n",
       "Year                                         2015\n",
       "Total Tested                                    6\n",
       "Mean Score                                   37.2\n",
       "Number Scoring Below 65                         5\n",
       "Number Scoring 65 or Above                      0\n",
       "Number Scoring 80 or Above                      0\n",
       "dtype: object"
      ]
     },
     "execution_count": 52,
     "metadata": {},
     "output_type": "execute_result"
    }
   ],
   "source": [
    "dfs.min()"
   ]
  },
  {
   "cell_type": "code",
   "execution_count": 53,
   "metadata": {},
   "outputs": [
    {
     "data": {
      "text/plain": [
       "School DBN                                10X504\n",
       "School Name                         Kennedy Yabc\n",
       "School Level                         High school\n",
       "Regents Exam                  Integrated Algebra\n",
       "Year                                        2017\n",
       "Total Tested                                  70\n",
       "Mean Score                                  60.1\n",
       "Number Scoring Below 65                       47\n",
       "Number Scoring 65 or Above                    23\n",
       "Number Scoring 80 or Above                     2\n",
       "dtype: object"
      ]
     },
     "execution_count": 53,
     "metadata": {},
     "output_type": "execute_result"
    }
   ],
   "source": [
    "dfs.max()"
   ]
  },
  {
   "cell_type": "code",
   "execution_count": 54,
   "metadata": {},
   "outputs": [],
   "source": [
    "# There are scores available for only 4 of 14 of the Regents exams for \n",
    "# Kennedy"
   ]
  },
  {
   "cell_type": "code",
   "execution_count": 55,
   "metadata": {},
   "outputs": [
    {
     "data": {
      "text/plain": [
       "English                20\n",
       "Common Core English    12\n",
       "Common Core Algebra     9\n",
       "Integrated Algebra      5\n",
       "Name: Regents Exam, dtype: int64"
      ]
     },
     "execution_count": 55,
     "metadata": {},
     "output_type": "execute_result"
    }
   ],
   "source": [
    "dfs['Regents Exam'].value_counts()"
   ]
  },
  {
   "cell_type": "code",
   "execution_count": 56,
   "metadata": {},
   "outputs": [
    {
     "data": {
      "text/plain": [
       "<matplotlib.axes._subplots.AxesSubplot at 0xc2f9470>"
      ]
     },
     "execution_count": 56,
     "metadata": {},
     "output_type": "execute_result"
    },
    {
     "data": {
      "image/png": "[encoded data removed]",
      "text/plain": [
       "<Figure size 432x288 with 1 Axes>"
      ]
     },
     "metadata": {},
     "output_type": "display_data"
    }
   ],
   "source": [
    "sns.scatterplot(x='Mean Score',y='Total Tested',data=dfs)"
   ]
  },
  {
   "cell_type": "markdown",
   "metadata": {},
   "source": [
    "# Analysis"
   ]
  },
  {
   "cell_type": "code",
   "execution_count": 57,
   "metadata": {},
   "outputs": [],
   "source": [
    "# Mean exam scores are lower at Kennedy than they are in the rest of the\n",
    "# Bronx and citywide\n",
    "\n",
    "# df-citywide, dfb-Bronx, dfs-Kennedy"
   ]
  },
  {
   "cell_type": "code",
   "execution_count": 58,
   "metadata": {},
   "outputs": [
    {
     "data": {
      "text/plain": [
       "<matplotlib.axes._subplots.AxesSubplot at 0xc31b530>"
      ]
     },
     "execution_count": 58,
     "metadata": {},
     "output_type": "execute_result"
    },
    {
     "data": {
      "image/png": "[encoded data removed]",
      "text/plain": [
       "<Figure size 432x288 with 1 Axes>"
      ]
     },
     "metadata": {},
     "output_type": "display_data"
    }
   ],
   "source": [
    "sns.boxplot(y=df['Mean Score'])"
   ]
  },
  {
   "cell_type": "code",
   "execution_count": 59,
   "metadata": {},
   "outputs": [
    {
     "data": {
      "text/plain": [
       "<matplotlib.axes._subplots.AxesSubplot at 0xc1e9bd0>"
      ]
     },
     "execution_count": 59,
     "metadata": {},
     "output_type": "execute_result"
    },
    {
     "data": {
      "image/png": "[encoded data removed]",
      "text/plain": [
       "<Figure size 432x288 with 1 Axes>"
      ]
     },
     "metadata": {},
     "output_type": "display_data"
    }
   ],
   "source": [
    "sns.boxplot(y=dfb['Mean Score'])"
   ]
  },
  {
   "cell_type": "code",
   "execution_count": 60,
   "metadata": {},
   "outputs": [
    {
     "data": {
      "text/plain": [
       "<matplotlib.axes._subplots.AxesSubplot at 0xc16e930>"
      ]
     },
     "execution_count": 60,
     "metadata": {},
     "output_type": "execute_result"
    },
    {
     "data": {
      "image/png": "[encoded data removed]",
      "text/plain": [
       "<Figure size 432x288 with 1 Axes>"
      ]
     },
     "metadata": {},
     "output_type": "display_data"
    }
   ],
   "source": [
    "sns.boxplot(y=dfs['Mean Score'])"
   ]
  },
  {
   "cell_type": "code",
   "execution_count": 61,
   "metadata": {},
   "outputs": [],
   "source": [
    "# Citywide, mean scores for Common Core English have a wide distribution\n",
    "# and are very low (below 50) at Kennedy. Note that the sample size for \n",
    "# Kennedy is very small(46 records).\n",
    "\n",
    "# df-citywide, dfb-Bronx, dfs-Kennedy"
   ]
  },
  {
   "cell_type": "code",
   "execution_count": 62,
   "metadata": {},
   "outputs": [
    {
     "data": {
      "text/plain": [
       "<matplotlib.axes._subplots.AxesSubplot at 0xc1b26d0>"
      ]
     },
     "execution_count": 62,
     "metadata": {},
     "output_type": "execute_result"
    },
    {
     "data": {
      "image/png": "[encoded data removed]",
      "text/plain": [
       "<Figure size 432x288 with 1 Axes>"
      ]
     },
     "metadata": {},
     "output_type": "display_data"
    }
   ],
   "source": [
    "sns.stripplot(x=\"Mean Score\",y=\"Regents Exam\",data=df)"
   ]
  },
  {
   "cell_type": "code",
   "execution_count": 63,
   "metadata": {},
   "outputs": [
    {
     "data": {
      "text/plain": [
       "<matplotlib.axes._subplots.AxesSubplot at 0xcc01610>"
      ]
     },
     "execution_count": 63,
     "metadata": {},
     "output_type": "execute_result"
    },
    {
     "data": {
      "image/png": "[encoded data removed]",
      "text/plain": [
       "<Figure size 432x288 with 1 Axes>"
      ]
     },
     "metadata": {},
     "output_type": "display_data"
    }
   ],
   "source": [
    "sns.stripplot(x=\"Mean Score\",y=\"Regents Exam\",data=dfb)"
   ]
  },
  {
   "cell_type": "code",
   "execution_count": 64,
   "metadata": {},
   "outputs": [],
   "source": [
    "# Mean scores for math exams are notably higher then language (English)\n",
    "# at Kennedy"
   ]
  },
  {
   "cell_type": "code",
   "execution_count": 65,
   "metadata": {},
   "outputs": [
    {
     "data": {
      "text/plain": [
       "<matplotlib.axes._subplots.AxesSubplot at 0xcc4e5b0>"
      ]
     },
     "execution_count": 65,
     "metadata": {},
     "output_type": "execute_result"
    },
    {
     "data": {
      "image/png": "[encoded data removed]",
      "text/plain": [
       "<Figure size 432x288 with 1 Axes>"
      ]
     },
     "metadata": {},
     "output_type": "display_data"
    }
   ],
   "source": [
    "sns.stripplot(x=\"Mean Score\",y=\"Regents Exam\",data=dfs)"
   ]
  },
  {
   "cell_type": "code",
   "execution_count": 66,
   "metadata": {},
   "outputs": [],
   "source": [
    "# Mean scores are much more evenly distributed citywide and in the Bronx,\n",
    "# following a bell-shaped curve. "
   ]
  },
  {
   "cell_type": "code",
   "execution_count": 67,
   "metadata": {},
   "outputs": [
    {
     "data": {
      "text/plain": [
       "<seaborn.axisgrid.JointGrid at 0xce7ac50>"
      ]
     },
     "execution_count": 67,
     "metadata": {},
     "output_type": "execute_result"
    },
    {
     "data": {
      "image/png": "[encoded data removed]",
      "text/plain": [
       "<Figure size 432x432 with 3 Axes>"
      ]
     },
     "metadata": {},
     "output_type": "display_data"
    }
   ],
   "source": [
    "sns.jointplot(x='Mean Score',y='Total Tested',data=df)"
   ]
  },
  {
   "cell_type": "code",
   "execution_count": 68,
   "metadata": {},
   "outputs": [
    {
     "data": {
      "text/plain": [
       "<seaborn.axisgrid.JointGrid at 0xcc43790>"
      ]
     },
     "execution_count": 68,
     "metadata": {},
     "output_type": "execute_result"
    },
    {
     "data": {
      "image/png": "[encoded data removed]",
      "text/plain": [
       "<Figure size 432x432 with 3 Axes>"
      ]
     },
     "metadata": {},
     "output_type": "display_data"
    }
   ],
   "source": [
    "sns.jointplot(x='Mean Score',y='Total Tested',data=dfb)"
   ]
  },
  {
   "cell_type": "code",
   "execution_count": 69,
   "metadata": {},
   "outputs": [
    {
     "data": {
      "text/plain": [
       "<seaborn.axisgrid.JointGrid at 0xd50ce50>"
      ]
     },
     "execution_count": 69,
     "metadata": {},
     "output_type": "execute_result"
    },
    {
     "data": {
      "image/png": "[encoded data removed]",
      "text/plain": [
       "<Figure size 432x432 with 3 Axes>"
      ]
     },
     "metadata": {},
     "output_type": "display_data"
    }
   ],
   "source": [
    "sns.jointplot(x='Mean Score',y='Total Tested',data=dfs)"
   ]
  }
 ],
 "metadata": {
  "kernelspec": {
   "display_name": "Python 3",
   "language": "python",
   "name": "python3"
  },
  "language_info": {
   "codemirror_mode": {
    "name": "ipython",
    "version": 3
   },
   "file_extension": ".py",
   "mimetype": "text/x-python",
   "name": "python",
   "nbconvert_exporter": "python",
   "pygments_lexer": "ipython3",
   "version": "3.7.6"
  }
 },
 "nbformat": 4,
 "nbformat_minor": 4
}
